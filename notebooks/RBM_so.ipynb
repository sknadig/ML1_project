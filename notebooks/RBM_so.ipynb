{
 "cells": [
  {
   "cell_type": "code",
   "execution_count": 1,
   "metadata": {
    "collapsed": true
   },
   "outputs": [],
   "source": [
    "import numpy as np\n",
    "import matplotlib.pyplot as plt\n",
    "from tfrbm import BBRBM, GBRBM\n",
    "from tensorflow.examples.tutorials.mnist import input_data\n",
    "import pickle"
   ]
  },
  {
   "cell_type": "code",
   "execution_count": 2,
   "metadata": {
    "collapsed": true
   },
   "outputs": [],
   "source": [
    "rbm_feat_c_file = pickle.load(open(\"/home/neo/ml1/data/light/rbm_feat_c.pkl\",\"rb\"))"
   ]
  },
  {
   "cell_type": "code",
   "execution_count": 3,
   "metadata": {},
   "outputs": [],
   "source": [
    "gbrbm = GBRBM(n_visible=1024, n_hidden=1024, learning_rate=0.01, momentum=0.95, use_tqdm=True)"
   ]
  },
  {
   "cell_type": "code",
   "execution_count": 4,
   "metadata": {},
   "outputs": [
    {
     "name": "stdout",
     "output_type": "stream",
     "text": [
      "Epoch: 0: 100%|##########| 169/169 [00:38<00:00,  4.44it/s]\n",
      "Train error: 0.0547\n",
      "\n",
      "Epoch: 1: 100%|##########| 169/169 [00:39<00:00,  4.31it/s]\n",
      "Train error: 0.0415\n",
      "\n",
      "Epoch: 2: 100%|##########| 169/169 [00:39<00:00,  4.32it/s]\n",
      "Train error: 0.0421\n",
      "\n",
      "Epoch: 3: 100%|##########| 169/169 [00:39<00:00,  4.32it/s]\n",
      "Train error: 0.0425\n",
      "\n",
      "Epoch: 4: 100%|##########| 169/169 [00:40<00:00,  4.13it/s]\n",
      "Train error: 0.0428\n",
      "\n",
      "Epoch: 5: 100%|##########| 169/169 [00:41<00:00,  4.02it/s]\n",
      "Train error: 0.0432\n",
      "\n",
      "Epoch: 6: 100%|##########| 169/169 [00:43<00:00,  3.89it/s]\n",
      "Train error: 0.0434\n",
      "\n",
      "Epoch: 7: 100%|##########| 169/169 [00:42<00:00,  4.01it/s]\n",
      "Train error: 0.0436\n",
      "\n",
      "Epoch: 8: 100%|##########| 169/169 [00:42<00:00,  3.99it/s]\n",
      "Train error: 0.0438\n",
      "\n",
      "Epoch: 9: 100%|##########| 169/169 [00:39<00:00,  4.24it/s]\n",
      "Train error: 0.0440\n",
      "\n",
      "Epoch: 10: 100%|##########| 169/169 [00:41<00:00,  4.12it/s]\n",
      "Train error: 0.0441\n",
      "\n",
      "Epoch: 11: 100%|##########| 169/169 [00:42<00:00,  3.98it/s]\n",
      "Train error: 0.0443\n",
      "\n",
      "Epoch: 12: 100%|##########| 169/169 [00:40<00:00,  4.18it/s]\n",
      "Train error: 0.0444\n",
      "\n",
      "Epoch: 13: 100%|##########| 169/169 [00:41<00:00,  4.03it/s]\n",
      "Train error: 0.0444\n",
      "\n",
      "Epoch: 14: 100%|##########| 169/169 [00:43<00:00,  3.87it/s]\n",
      "Train error: 0.0445\n",
      "\n",
      "Epoch: 15: 100%|##########| 169/169 [00:41<00:00,  4.10it/s]\n",
      "Train error: 0.0446\n",
      "\n",
      "Epoch: 16: 100%|##########| 169/169 [01:06<00:00,  2.55it/s]\n",
      "Train error: 0.0447\n",
      "\n",
      "Epoch: 17: 100%|##########| 169/169 [01:26<00:00,  1.95it/s]\n",
      "Train error: 0.0447\n",
      "\n",
      "Epoch: 18: 100%|##########| 169/169 [01:22<00:00,  2.06it/s]\n",
      "Train error: 0.0448\n",
      "\n",
      "Epoch: 19: 100%|##########| 169/169 [01:17<00:00,  2.17it/s]\n",
      "Train error: 0.0448\n",
      "\n",
      "Epoch: 20: 100%|##########| 169/169 [00:43<00:00,  3.92it/s]\n",
      "Train error: 0.0448\n",
      "\n",
      "Epoch: 21: 100%|##########| 169/169 [00:42<00:00,  4.02it/s]\n",
      "Train error: 0.0449\n",
      "\n",
      "Epoch: 22: 100%|##########| 169/169 [00:40<00:00,  4.19it/s]\n",
      "Train error: 0.0449\n",
      "\n",
      "Epoch: 23: 100%|##########| 169/169 [00:40<00:00,  4.18it/s]\n",
      "Train error: 0.0449\n",
      "\n",
      "Epoch: 24: 100%|##########| 169/169 [00:40<00:00,  4.18it/s]\n",
      "Train error: 0.0450\n",
      "\n",
      "Epoch: 25: 100%|##########| 169/169 [00:40<00:00,  4.20it/s]\n",
      "Train error: 0.0450\n",
      "\n",
      "Epoch: 26: 100%|##########| 169/169 [00:40<00:00,  4.19it/s]\n",
      "Train error: 0.0450\n",
      "\n",
      "Epoch: 27: 100%|##########| 169/169 [00:40<00:00,  4.20it/s]\n",
      "Train error: 0.0450\n",
      "\n",
      "Epoch: 28: 100%|##########| 169/169 [00:40<00:00,  4.21it/s]\n",
      "Train error: 0.0450\n",
      "\n",
      "Epoch: 29: 100%|##########| 169/169 [00:40<00:00,  4.20it/s]\n",
      "Train error: 0.0451\n",
      "\n"
     ]
    }
   ],
   "source": [
    "errs = gbrbm.fit(rbm_feat_c_file, n_epoches=30, batch_size=1000)"
   ]
  },
  {
   "cell_type": "code",
   "execution_count": 6,
   "metadata": {},
   "outputs": [
    {
     "data": {
      "image/png": "[encoded data removed]",
      "text/plain": [
       "<matplotlib.figure.Figure at 0x7f987a1cd710>"
      ]
     },
     "metadata": {},
     "output_type": "display_data"
    }
   ],
   "source": [
    "plt.plot(errs)\n",
    "plt.show()"
   ]
  },
  {
   "cell_type": "code",
   "execution_count": 28,
   "metadata": {},
   "outputs": [],
   "source": [
    "final_features = []\n",
    "for row in rbm_feat_c_file:\n",
    "    final_features.append(gbrbm.transform(row)[0])"
   ]
  },
  {
   "cell_type": "code",
   "execution_count": 29,
   "metadata": {
    "collapsed": true
   },
   "outputs": [],
   "source": [
    "feature_file = open(\"/home/neo/ml1/code/ML1_project/features/features_rbm.pkl\", \"wb\")\n",
    "pickle.dump(final_features, feature_file)"
   ]
  }
 ],
 "metadata": {
  "kernelspec": {
   "display_name": "Python 3",
   "language": "python",
   "name": "python3"
  },
  "language_info": {
   "codemirror_mode": {
    "name": "ipython",
    "version": 3
   },
   "file_extension": ".py",
   "mimetype": "text/x-python",
   "name": "python",
   "nbconvert_exporter": "python",
   "pygments_lexer": "ipython3",
   "version": "3.6.1"
  }
 },
 "nbformat": 4,
 "nbformat_minor": 2
}
