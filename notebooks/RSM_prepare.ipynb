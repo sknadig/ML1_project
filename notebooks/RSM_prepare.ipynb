{
 "cells": [
  {
   "cell_type": "code",
   "execution_count": 1,
   "metadata": {
    "collapsed": true
   },
   "outputs": [],
   "source": [
    "import pandas as pd\n",
    "import numpy as np\n",
    "from nltk.stem.wordnet import WordNetLemmatizer\n",
    "import pickle, csv, random\n",
    "from sklearn.feature_extraction.text import TfidfVectorizer, CountVectorizer\n",
    "tf = TfidfVectorizer(analyzer='word', ngram_range=(1,1), min_df = 2, stop_words = 'english')\n",
    "tf_vectorizer = CountVectorizer(max_df=0.95, min_df=2,max_features=4096,stop_words='english')\n",
    "feature_folder = \"/home/neo/ml1/code/ML1_project/features/\""
   ]
  },
  {
   "cell_type": "code",
   "execution_count": 2,
   "metadata": {
    "collapsed": true
   },
   "outputs": [],
   "source": [
    "dataframes = {\n",
    "    \"cooking\": pd.read_csv(\"/home/neo/ml1/data/light/cooking_light.csv\"),\n",
    "    \"crypto\": pd.read_csv(\"/home/neo/ml1/data/light/crypto_light.csv\"),\n",
    "    \"robotics\": pd.read_csv(\"/home/neo/ml1/data/light/robotics_light.csv\"),\n",
    "    \"biology\": pd.read_csv(\"/home/neo/ml1/data/light/biology_light.csv\"),\n",
    "    \"travel\": pd.read_csv(\"/home/neo/ml1/data/light/travel_light.csv\"),\n",
    "    \"diy\": pd.read_csv(\"/home/neo/ml1/data/light/diy_light.csv\"),\n",
    "    \"physics\": pd.read_csv(\"/home/neo/ml1/data/light/physics_light.csv\"),\n",
    "}"
   ]
  },
  {
   "cell_type": "code",
   "execution_count": 3,
   "metadata": {},
   "outputs": [
    {
     "name": "stdout",
     "output_type": "stream",
     "text": [
      "168926 87000\n"
     ]
    }
   ],
   "source": [
    "physics_index = dataframes[\"cooking\"].shape[0]+dataframes[\"crypto\"].shape[0]+dataframes[\"robotics\"].shape[0]\\\n",
    "                    +dataframes[\"biology\"].shape[0]+dataframes[\"travel\"].shape[0]+dataframes[\"diy\"].shape[0]\n",
    "print(dataframes[\"physics\"].shape[0]+physics_index,physics_index)"
   ]
  },
  {
   "cell_type": "code",
   "execution_count": 4,
   "metadata": {
    "collapsed": true
   },
   "outputs": [],
   "source": [
    "new_df = pd.DataFrame()\n",
    "train_df = pd.DataFrame()\n",
    "for df in dataframes:\n",
    "    new_df = new_df.append(dataframes[df])\n",
    "    new_df.fillna(\"NAN\")\n",
    "train_df[\"content\"] = new_df[\"title\"] +\" \"+ new_df[\"content\"]\n",
    "corpus = []\n",
    "for row in train_df[\"content\"]:\n",
    "    corpus.append(str(row))"
   ]
  },
  {
   "cell_type": "code",
   "execution_count": 5,
   "metadata": {
    "collapsed": true
   },
   "outputs": [],
   "source": [
    "# tfidf_matrix =  tf.fit_transform(corpus)\n",
    "# feature_names = tf.get_feature_names() \n",
    "# tfidf_matrix.shape"
   ]
  },
  {
   "cell_type": "code",
   "execution_count": 6,
   "metadata": {
    "collapsed": true
   },
   "outputs": [],
   "source": [
    "tfidf = tf_vectorizer.fit_transform(corpus)\n",
    "# feature_names_c = tf_vectorizer.get_feature_names() "
   ]
  },
  {
   "cell_type": "code",
   "execution_count": 7,
   "metadata": {
    "collapsed": true
   },
   "outputs": [],
   "source": [
    "# dense = np.zeros((1,tfidf_matrix.shape[1]))[0]\n",
    "# print(\"Dense shape is: {0}\".format(len(dense)))\n",
    "# for i in range(tfidf_matrix.shape[0]):\n",
    "#     dense += np.array(tfidf_matrix[i].todense().tolist()[0])\n",
    "#     if(i%10000 == 0):\n",
    "#         print(\"Step {0} out of {1}\".format(i, tfidf_matrix.shape[0]), end=\"\\r\", flush=True)"
   ]
  },
  {
   "cell_type": "code",
   "execution_count": 8,
   "metadata": {
    "collapsed": true
   },
   "outputs": [],
   "source": [
    "# dense_c = np.zeros((1,tfidf.shape[1]))[0]\n",
    "# print(\"Dense shape is: {0}\".format(len(dense)))\n",
    "# for i in range(tfidf.shape[0]):\n",
    "#     dense_c += np.array(tfidf[i].todense().tolist()[0])\n",
    "#     if(i%10000 == 0):\n",
    "#         print(\"Step {0} out of {1}\".format(i, tfidf_matrix.shape[0]), end=\"\\r\", flush=True)"
   ]
  },
  {
   "cell_type": "code",
   "execution_count": 9,
   "metadata": {
    "collapsed": true
   },
   "outputs": [],
   "source": [
    "# dense_file = open(\"/home/neo/ml1/data/light/dense.pkl\",\"wb\")\n",
    "# pickle.dump(dense, dense_file)"
   ]
  },
  {
   "cell_type": "code",
   "execution_count": 10,
   "metadata": {
    "collapsed": true
   },
   "outputs": [],
   "source": [
    "rbm_feat_c = tf_vectorizer.transform(corpus).todense()\n",
    "rbm_feat_c_file = open(feature_folder+\"features_4096.pkl\",\"wb\")\n",
    "pickle.dump(rbm_feat_c, rbm_feat_c_file, protocol=4)"
   ]
  }
 ],
 "metadata": {
  "kernelspec": {
   "display_name": "Python 3",
   "language": "python",
   "name": "python3"
  },
  "language_info": {
   "codemirror_mode": {
    "name": "ipython",
    "version": 3
   },
   "file_extension": ".py",
   "mimetype": "text/x-python",
   "name": "python",
   "nbconvert_exporter": "python",
   "pygments_lexer": "ipython3",
   "version": "3.6.1"
  }
 },
 "nbformat": 4,
 "nbformat_minor": 2
}
