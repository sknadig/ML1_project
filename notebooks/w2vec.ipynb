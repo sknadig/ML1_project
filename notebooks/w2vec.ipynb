{
 "cells": [
  {
   "cell_type": "code",
   "execution_count": 10,
   "metadata": {
    "collapsed": true
   },
   "outputs": [],
   "source": [
    "import pandas as pd\n",
    "from nltk.corpus import stopwords\n",
    "import numpy as np\n",
    "from gensim.models import Word2Vec\n",
    "from nltk.stem.wordnet import WordNetLemmatizer\n",
    "import lda\n",
    "from sklearn.feature_extraction.text import CountVectorizer\n",
    "from sklearn.manifold import TSNE\n",
    "import matplotlib.pyplot as plt\n",
    "import pickle\n",
    "from sklearn.externals import joblib\n",
    "\n",
    "lemma = WordNetLemmatizer()\n",
    "tsne = TSNE(n_components=3)\n",
    "feature_folder = \"/home/neo/ml1/code/ML1_project/features/\""
   ]
  },
  {
   "cell_type": "code",
   "execution_count": 11,
   "metadata": {
    "collapsed": true
   },
   "outputs": [],
   "source": [
    "dataframes = {\n",
    "    \"cooking\": pd.read_csv(\"/home/neo/ml1/data/orig/cooking.csv\"),\n",
    "    \"crypto\": pd.read_csv(\"/home/neo/ml1/data/orig/crypto.csv\"),\n",
    "    \"robotics\": pd.read_csv(\"/home/neo/ml1/data/orig/robotics.csv\"),\n",
    "    \"biology\": pd.read_csv(\"/home/neo/ml1/data/orig/biology.csv\"),\n",
    "    \"travel\": pd.read_csv(\"/home/neo/ml1/data/orig/travel.csv\"),\n",
    "    \"diy\": pd.read_csv(\"/home/neo/ml1/data/orig/diy.csv\"),\n",
    "    \"physics\": pd.read_csv(\"/home/neo/ml1/data/orig/test.csv\"),\n",
    "}"
   ]
  },
  {
   "cell_type": "code",
   "execution_count": 31,
   "metadata": {},
   "outputs": [
    {
     "name": "stdout",
     "output_type": "stream",
     "text": [
      "15404\n",
      "25836\n",
      "28607\n",
      "41803\n",
      "61082\n",
      "87000\n",
      "168926\n"
     ]
    }
   ],
   "source": [
    "index = 0\n",
    "for df in dataframes:\n",
    "    index += len(dataframes[df])\n",
    "    print(index)"
   ]
  },
  {
   "cell_type": "code",
   "execution_count": 12,
   "metadata": {
    "collapsed": true
   },
   "outputs": [],
   "source": [
    "new_df = pd.DataFrame()\n",
    "for df in dataframes:\n",
    "    new_df = new_df.append(dataframes[df])"
   ]
  },
  {
   "cell_type": "code",
   "execution_count": 22,
   "metadata": {},
   "outputs": [
    {
     "data": {
      "text/plain": [
       "(168926, 4)"
      ]
     },
     "execution_count": 22,
     "metadata": {},
     "output_type": "execute_result"
    }
   ],
   "source": [
    "new_df.shape"
   ]
  },
  {
   "cell_type": "code",
   "execution_count": 13,
   "metadata": {
    "collapsed": true
   },
   "outputs": [],
   "source": [
    "word_vector = []\n",
    "labels = []\n",
    "label = 0\n",
    "for df in dataframes:\n",
    "    for (index, sentence) in dataframes[df].title.iteritems():\n",
    "        words = str(sentence).split()\n",
    "        words = [lemma.lemmatize(word) for word in words]\n",
    "        labels.append([df])\n",
    "        word_vector.append(words)\n",
    "    for (index, sentence) in dataframes[df].content.iteritems():\n",
    "        words = str(sentence).split()\n",
    "        words = [lemma.lemmatize(word) for word in words]\n",
    "        labels.append([df])\n",
    "        word_vector.append(words)\n"
   ]
  },
  {
   "cell_type": "code",
   "execution_count": 14,
   "metadata": {},
   "outputs": [
    {
     "data": {
      "text/plain": [
       "337852"
      ]
     },
     "execution_count": 14,
     "metadata": {},
     "output_type": "execute_result"
    }
   ],
   "source": [
    "len(word_vector)"
   ]
  },
  {
   "cell_type": "code",
   "execution_count": 15,
   "metadata": {
    "collapsed": true,
    "scrolled": true
   },
   "outputs": [],
   "source": [
    "w2vec = Word2Vec(word_vector, workers = 8)\n",
    "vocab = w2vec.wv.vocab\n",
    "X = w2vec[vocab]\n",
    "# X_tsne = tsne.fit_transform(X)\n",
    "# X_tsne_temp = pickle.load(open(\"X_Tsne.pkl\", \"rb\") )\n",
    "# output = open('output_file', 'w')\n",
    "# output_labels = open('labels', 'w')\n",
    "# for label in labels:\n",
    "#     output_labels.write(str(label[0])+\"\\n\")\n",
    "# file = open(\"X_Tsne.pkl\",'wb')\n",
    "# pickle.dump(X_tsne, file)"
   ]
  },
  {
   "cell_type": "code",
   "execution_count": 16,
   "metadata": {},
   "outputs": [
    {
     "data": {
      "text/plain": [
       "[('atom', 0.8358182907104492),\n",
       " ('nucleus', 0.7788890600204468),\n",
       " ('proton', 0.777381956577301),\n",
       " ('ion', 0.7451409101486206),\n",
       " ('photon', 0.7411994338035583),\n",
       " ('electron,', 0.7379094362258911),\n",
       " ('particle', 0.7296439409255981),\n",
       " ('electrons,', 0.7021958827972412),\n",
       " ('positron', 0.6805453300476074),\n",
       " ('neutron', 0.6519023180007935)]"
      ]
     },
     "execution_count": 16,
     "metadata": {},
     "output_type": "execute_result"
    }
   ],
   "source": [
    "w2vec.most_similar(\"electron\", topn=10)"
   ]
  },
  {
   "cell_type": "code",
   "execution_count": 20,
   "metadata": {},
   "outputs": [],
   "source": [
    "labels = []\n",
    "final_features = []\n",
    "final_word_vector = []\n",
    "\n",
    "for df in dataframes:\n",
    "    for (index, sentence) in dataframes[df].title.iteritems():\n",
    "        words = str(sentence).split()\n",
    "        words = [lemma.lemmatize(word) for word in words]\n",
    "        for word in words:\n",
    "            if word in vocab:\n",
    "                labels.append([df])\n",
    "                final_features.append(w2vec[word])\n",
    "                final_word_vector.append(word)\n",
    "\n",
    "#     for (index, sentence) in dataframes[df].tags.iteritems():\n",
    "#         words = str(sentence).split()\n",
    "#         words = [lemma.lemmatize(word) for word in words]\n",
    "#         for word in words:\n",
    "#             if word in vocab:\n",
    "#                 labels.append([df])\n",
    "#                 final_features.append(w2vec[word])\n",
    "#                 final_word_vector.append(word)"
   ]
  },
  {
   "cell_type": "code",
   "execution_count": 27,
   "metadata": {
    "collapsed": true
   },
   "outputs": [],
   "source": [
    "labels = []\n",
    "for df in dataframes:\n",
    "    for row in dataframes[df].title:\n",
    "        labels.append(str(df))"
   ]
  },
  {
   "cell_type": "code",
   "execution_count": 28,
   "metadata": {},
   "outputs": [
    {
     "name": "stdout",
     "output_type": "stream",
     "text": [
      "1477785 1477785 168926\n"
     ]
    }
   ],
   "source": [
    "print(len(final_features), len(final_word_vector), len(labels))"
   ]
  },
  {
   "cell_type": "code",
   "execution_count": 29,
   "metadata": {
    "collapsed": true
   },
   "outputs": [],
   "source": [
    "label_file = open(feature_folder+\"labels.pkl\", \"wb\")\n",
    "pickle.dump(labels, label_file)"
   ]
  },
  {
   "cell_type": "code",
   "execution_count": null,
   "metadata": {
    "collapsed": true
   },
   "outputs": [],
   "source": [
    "feature_file = open(feature_folder+\"features.pkl\", \"wb\")\n",
    "pickle.dump(final_features, feature_file)"
   ]
  },
  {
   "cell_type": "code",
   "execution_count": null,
   "metadata": {
    "collapsed": true
   },
   "outputs": [],
   "source": [
    "words_file = open(feature_folder+\"final_words.pkl\",\"wb\")\n",
    "pickle.dump(final_word_vector, words_file)"
   ]
  },
  {
   "cell_type": "code",
   "execution_count": null,
   "metadata": {},
   "outputs": [],
   "source": [
    "print(\"Hello World\")"
   ]
  }
 ],
 "metadata": {
  "kernelspec": {
   "display_name": "Python 3",
   "language": "python",
   "name": "python3"
  },
  "language_info": {
   "codemirror_mode": {
    "name": "ipython",
    "version": 3
   },
   "file_extension": ".py",
   "mimetype": "text/x-python",
   "name": "python",
   "nbconvert_exporter": "python",
   "pygments_lexer": "ipython3",
   "version": "3.6.1"
  }
 },
 "nbformat": 4,
 "nbformat_minor": 2
}
