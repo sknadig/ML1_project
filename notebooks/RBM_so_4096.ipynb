{
 "cells": [
  {
   "cell_type": "code",
   "execution_count": 1,
   "metadata": {
    "collapsed": true,
    "scrolled": true
   },
   "outputs": [],
   "source": [
    "import numpy as np\n",
    "import matplotlib.pyplot as plt\n",
    "from tfrbm import BBRBM, GBRBM\n",
    "from tensorflow.examples.tutorials.mnist import input_data\n",
    "import pickle"
   ]
  },
  {
   "cell_type": "code",
   "execution_count": 2,
   "metadata": {
    "collapsed": true,
    "scrolled": true
   },
   "outputs": [],
   "source": [
    "rbm_feat_c_file = pickle.load(open(\"/home/neo/ml1/data/light/rbm_feat_c_2048.pkl\",\"rb\"))"
   ]
  },
  {
   "cell_type": "code",
   "execution_count": 3,
   "metadata": {
    "collapsed": true,
    "scrolled": true
   },
   "outputs": [],
   "source": [
    "gbrbm = GBRBM(n_visible=2048, n_hidden=4096, learning_rate=0.01, momentum=0.95, use_tqdm=True)"
   ]
  },
  {
   "cell_type": "code",
   "execution_count": 4,
   "metadata": {
    "scrolled": true
   },
   "outputs": [
    {
     "name": "stdout",
     "output_type": "stream",
     "text": [
      "Epoch: 0: 100%|##########| 169/169 [04:42<00:00,  1.67s/it]\n",
      "Train error: 0.0402\n",
      "\n",
      "Epoch: 1: 100%|##########| 169/169 [04:43<00:00,  1.68s/it]\n",
      "Train error: 0.0220\n",
      "\n",
      "Epoch: 2: 100%|##########| 169/169 [04:42<00:00,  1.67s/it]\n",
      "Train error: 0.0227\n",
      "\n",
      "Epoch: 3: 100%|##########| 169/169 [04:42<00:00,  1.67s/it]\n",
      "Train error: 0.0233\n",
      "\n",
      "Epoch: 4: 100%|##########| 169/169 [04:44<00:00,  1.68s/it]\n",
      "Train error: 0.0238\n",
      "\n",
      "Epoch: 5: 100%|##########| 169/169 [04:43<00:00,  1.68s/it]\n",
      "Train error: 0.0242\n",
      "\n",
      "Epoch: 6: 100%|##########| 169/169 [04:43<00:00,  1.68s/it]\n",
      "Train error: 0.0246\n",
      "\n",
      "Epoch: 7: 100%|##########| 169/169 [04:42<00:00,  1.67s/it]\n",
      "Train error: 0.0249\n",
      "\n",
      "Epoch: 8: 100%|##########| 169/169 [04:44<00:00,  1.68s/it]\n",
      "Train error: 0.0252\n",
      "\n",
      "Epoch: 9: 100%|##########| 169/169 [04:44<00:00,  1.69s/it]\n",
      "Train error: 0.0255\n",
      "\n"
     ]
    }
   ],
   "source": [
    "errs = gbrbm.fit(rbm_feat_c_file, n_epoches=10, batch_size=1000)"
   ]
  },
  {
   "cell_type": "code",
   "execution_count": 5,
   "metadata": {
    "scrolled": true
   },
   "outputs": [
    {
     "data": {
      "image/png": "[encoded data removed]",
      "text/plain": [
       "<matplotlib.figure.Figure at 0x7f47bd400ef0>"
      ]
     },
     "metadata": {},
     "output_type": "display_data"
    }
   ],
   "source": [
    "plt.plot(errs)\n",
    "plt.show()"
   ]
  },
  {
   "cell_type": "code",
   "execution_count": 6,
   "metadata": {
    "collapsed": true,
    "scrolled": true
   },
   "outputs": [],
   "source": [
    "final_features = []\n",
    "for row in rbm_feat_c_file:\n",
    "    final_features.append(gbrbm.transform(row)[0])"
   ]
  },
  {
   "cell_type": "code",
   "execution_count": 7,
   "metadata": {
    "collapsed": true,
    "scrolled": true
   },
   "outputs": [],
   "source": [
    "feature_file = open(\"/home/neo/ml1/code/ML1_project/features/features_rbm_4096.pkl\", \"wb\")\n",
    "pickle.dump(final_features, feature_file)"
   ]
  },
  {
   "cell_type": "code",
   "execution_count": null,
   "metadata": {
    "collapsed": true,
    "scrolled": true
   },
   "outputs": [],
   "source": []
  }
 ],
 "metadata": {
  "kernelspec": {
   "display_name": "Python 3",
   "language": "python",
   "name": "python3"
  },
  "language_info": {
   "codemirror_mode": {
    "name": "ipython",
    "version": 3
   },
   "file_extension": ".py",
   "mimetype": "text/x-python",
   "name": "python",
   "nbconvert_exporter": "python",
   "pygments_lexer": "ipython3",
   "version": "3.6.1"
  }
 },
 "nbformat": 4,
 "nbformat_minor": 2
}
