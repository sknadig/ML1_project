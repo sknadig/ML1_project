{
 "cells": [
  {
   "cell_type": "code",
   "execution_count": 1,
   "metadata": {
    "collapsed": true
   },
   "outputs": [],
   "source": [
    "import pandas as pd\n",
    "from nltk.corpus import stopwords\n",
    "import numpy as np\n",
    "from gensim.models import Word2Vec\n",
    "from nltk.stem.wordnet import WordNetLemmatizer\n",
    "import lda\n",
    "from sklearn.feature_extraction.text import CountVectorizer\n",
    "from sklearn.manifold import TSNE\n",
    "import matplotlib.pyplot as plt\n",
    "import pickle\n",
    "from sklearn.externals import joblib\n",
    "\n",
    "lemma = WordNetLemmatizer()\n",
    "tsne = TSNE(n_components=3)"
   ]
  },
  {
   "cell_type": "code",
   "execution_count": 2,
   "metadata": {
    "collapsed": true
   },
   "outputs": [],
   "source": [
    "dataframes = {\n",
    "    \"cooking\": pd.read_csv(\"../data/light/cooking_light.csv\"),\n",
    "    \"crypto\": pd.read_csv(\"../data/light/crypto_light.csv\"),\n",
    "    \"robotics\": pd.read_csv(\"../data/light/robotics_light.csv\"),\n",
    "    \"biology\": pd.read_csv(\"../data/light/biology_light.csv\"),\n",
    "    \"travel\": pd.read_csv(\"../data/light/travel_light.csv\"),\n",
    "    \"diy\": pd.read_csv(\"../data/light/diy_light.csv\"),\n",
    "#     \"physics\": pd.read_csv(\"../data/light/test_light.csv\"),\n",
    "#     \"testorig\": pd.read_csv(\"../data/orig/test.csv\"),\n",
    "}"
   ]
  },
  {
   "cell_type": "code",
   "execution_count": 3,
   "metadata": {
    "collapsed": true
   },
   "outputs": [],
   "source": [
    "new_df = pd.DataFrame()\n",
    "for df in dataframes:\n",
    "    new_df = new_df.append(dataframes[df])"
   ]
  },
  {
   "cell_type": "code",
   "execution_count": 4,
   "metadata": {
    "collapsed": true
   },
   "outputs": [],
   "source": [
    "word_vector = []\n",
    "labels = []\n",
    "label = 0\n",
    "for df in dataframes:\n",
    "    for (index, sentence) in dataframes[df].title.iteritems():\n",
    "        words = str(sentence).split()\n",
    "        words = [lemma.lemmatize(word) for word in words]\n",
    "        labels.append([df])\n",
    "        word_vector.append(words)\n",
    "    for (index, sentence) in dataframes[df].content.iteritems():\n",
    "        words = str(sentence).split()\n",
    "        words = [lemma.lemmatize(word) for word in words]\n",
    "        labels.append([df])\n",
    "        word_vector.append(words)\n"
   ]
  },
  {
   "cell_type": "code",
   "execution_count": 5,
   "metadata": {},
   "outputs": [
    {
     "data": {
      "text/plain": [
       "17136"
      ]
     },
     "execution_count": 5,
     "metadata": {},
     "output_type": "execute_result"
    }
   ],
   "source": [
    "len(word_vector)"
   ]
  },
  {
   "cell_type": "code",
   "execution_count": 6,
   "metadata": {
    "collapsed": true,
    "scrolled": true
   },
   "outputs": [],
   "source": [
    "w2vec = Word2Vec(word_vector, workers = 8)\n",
    "vocab = w2vec.wv.vocab\n",
    "X = w2vec[vocab]\n",
    "# X_tsne = tsne.fit_transform(X)\n",
    "# X_tsne_temp = pickle.load(open(\"X_Tsne.pkl\", \"rb\") )\n",
    "# output = open('output_file', 'w')\n",
    "# output_labels = open('labels', 'w')\n",
    "# for label in labels:\n",
    "#     output_labels.write(str(label[0])+\"\\n\")\n",
    "# file = open(\"X_Tsne.pkl\",'wb')\n",
    "# pickle.dump(X_tsne, file)"
   ]
  },
  {
   "cell_type": "code",
   "execution_count": 7,
   "metadata": {},
   "outputs": [
    {
     "data": {
      "text/plain": [
       "[('electrode', 0.9670073986053467),\n",
       " ('generates', 0.9665422439575195),\n",
       " ('IV,', 0.9653109908103943),\n",
       " ('SHA-256', 0.9638379812240601),\n",
       " ('weighs', 0.9633051156997681),\n",
       " ('ASCII', 0.9624560475349426),\n",
       " ('injury', 0.962447464466095),\n",
       " ('incoming', 0.9620174765586853),\n",
       " ('activation', 0.9612245559692383),\n",
       " ('flour,', 0.9611095786094666)]"
      ]
     },
     "execution_count": 7,
     "metadata": {},
     "output_type": "execute_result"
    }
   ],
   "source": [
    "w2vec.most_similar(\"electron\", topn=10)"
   ]
  },
  {
   "cell_type": "code",
   "execution_count": 8,
   "metadata": {
    "collapsed": true
   },
   "outputs": [],
   "source": [
    "labels = []\n",
    "final_features = []\n",
    "final_word_vector = []\n",
    "\n",
    "for df in dataframes:\n",
    "#     for (index, sentence) in dataframes[df].title.iteritems():\n",
    "#         words = str(sentence).split()\n",
    "#         words = [lemma.lemmatize(word) for word in words]\n",
    "#         for word in words:\n",
    "#             if word in vocab:\n",
    "#                 labels.append([df])\n",
    "#                 final_features.append(w2vec[word])\n",
    "#                 final_word_vector.append(word)\n",
    "\n",
    "    for (index, sentence) in dataframes[df].tags.iteritems():\n",
    "        words = str(sentence).split()\n",
    "        words = [lemma.lemmatize(word) for word in words]\n",
    "        for word in words:\n",
    "            if word in vocab:\n",
    "                labels.append([df])\n",
    "                final_features.append(w2vec[word])\n",
    "                final_word_vector.append(word)"
   ]
  },
  {
   "cell_type": "code",
   "execution_count": 9,
   "metadata": {},
   "outputs": [
    {
     "name": "stdout",
     "output_type": "stream",
     "text": [
      "11764 11764 11764\n"
     ]
    }
   ],
   "source": [
    "print(len(final_features), len(final_word_vector), len(labels))"
   ]
  },
  {
   "cell_type": "code",
   "execution_count": 10,
   "metadata": {
    "collapsed": true
   },
   "outputs": [],
   "source": [
    "label_file = open(\"./features/labels.pkl\", \"wb\")\n",
    "pickle.dump(labels, label_file)"
   ]
  },
  {
   "cell_type": "code",
   "execution_count": 11,
   "metadata": {
    "collapsed": true
   },
   "outputs": [],
   "source": [
    "feature_file = open(\"./features/features.pkl\", \"wb\")\n",
    "pickle.dump(final_features, feature_file)"
   ]
  },
  {
   "cell_type": "code",
   "execution_count": 12,
   "metadata": {
    "collapsed": true
   },
   "outputs": [],
   "source": [
    "words_file = open(\"./features/final_words.pkl\",\"wb\")\n",
    "pickle.dump(final_word_vector, words_file)"
   ]
  },
  {
   "cell_type": "code",
   "execution_count": 13,
   "metadata": {},
   "outputs": [
    {
     "name": "stdout",
     "output_type": "stream",
     "text": [
      "Hello World\n"
     ]
    }
   ],
   "source": [
    "print(\"Hello World\")"
   ]
  }
 ],
 "metadata": {
  "kernelspec": {
   "display_name": "Python 3",
   "language": "python",
   "name": "python3"
  },
  "language_info": {
   "codemirror_mode": {
    "name": "ipython",
    "version": 3
   },
   "file_extension": ".py",
   "mimetype": "text/x-python",
   "name": "python",
   "nbconvert_exporter": "python",
   "pygments_lexer": "ipython3",
   "version": "3.6.1"
  }
 },
 "nbformat": 4,
 "nbformat_minor": 2
}
