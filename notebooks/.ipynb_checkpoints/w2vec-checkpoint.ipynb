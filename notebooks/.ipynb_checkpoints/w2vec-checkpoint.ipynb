{
 "cells": [
  {
   "cell_type": "code",
   "execution_count": null,
   "metadata": {
    "collapsed": true
   },
   "outputs": [],
   "source": [
    "import pandas as pd\n",
    "from nltk.corpus import stopwords\n",
    "import numpy as np\n",
    "from gensim.models import Word2Vec\n",
    "from nltk.stem.wordnet import WordNetLemmatizer\n",
    "import lda\n",
    "from sklearn.feature_extraction.text import CountVectorizer\n",
    "from sklearn.manifold import TSNE\n",
    "import matplotlib.pyplot as plt\n",
    "import pickle\n",
    "from sklearn.externals import joblib\n",
    "\n",
    "lemma = WordNetLemmatizer()\n",
    "tsne = TSNE(n_components=3)\n",
    "feature_folder = \"/home/neo/ml1/code/ML1_project/features/\""
   ]
  },
  {
   "cell_type": "code",
   "execution_count": null,
   "metadata": {
    "collapsed": true
   },
   "outputs": [],
   "source": [
    "dataframes = {\n",
    "    \"cooking\": pd.read_csv(\"/home/neo/ml1/data/orig/cooking.csv\"),\n",
    "    \"crypto\": pd.read_csv(\"/home/neo/ml1/data/orig/crypto.csv\"),\n",
    "    \"robotics\": pd.read_csv(\"/home/neo/ml1/data/orig/robotics.csv\"),\n",
    "    \"biology\": pd.read_csv(\"/home/neo/ml1/data/orig/biology.csv\"),\n",
    "    \"travel\": pd.read_csv(\"/home/neo/ml1/data/orig/travel.csv\"),\n",
    "    \"diy\": pd.read_csv(\"/home/neo/ml1/data/orig/diy.csv\"),\n",
    "    \"physics\": pd.read_csv(\"/home/neo/ml1/data/orig/test.csv\"),\n",
    "}"
   ]
  },
  {
   "cell_type": "code",
   "execution_count": null,
   "metadata": {
    "collapsed": true
   },
   "outputs": [],
   "source": [
    "new_df = pd.DataFrame()\n",
    "for df in dataframes:\n",
    "    new_df = new_df.append(dataframes[df])"
   ]
  },
  {
   "cell_type": "code",
   "execution_count": null,
   "metadata": {
    "collapsed": true
   },
   "outputs": [],
   "source": [
    "word_vector = []\n",
    "labels = []\n",
    "label = 0\n",
    "for df in dataframes:\n",
    "    for (index, sentence) in dataframes[df].title.iteritems():\n",
    "        words = str(sentence).split()\n",
    "        words = [lemma.lemmatize(word) for word in words]\n",
    "        labels.append([df])\n",
    "        word_vector.append(words)\n",
    "    for (index, sentence) in dataframes[df].content.iteritems():\n",
    "        words = str(sentence).split()\n",
    "        words = [lemma.lemmatize(word) for word in words]\n",
    "        labels.append([df])\n",
    "        word_vector.append(words)\n"
   ]
  },
  {
   "cell_type": "code",
   "execution_count": null,
   "metadata": {},
   "outputs": [],
   "source": [
    "len(word_vector)"
   ]
  },
  {
   "cell_type": "code",
   "execution_count": null,
   "metadata": {
    "collapsed": true,
    "scrolled": true
   },
   "outputs": [],
   "source": [
    "w2vec = Word2Vec(word_vector, workers = 8)\n",
    "vocab = w2vec.wv.vocab\n",
    "X = w2vec[vocab]\n",
    "# X_tsne = tsne.fit_transform(X)\n",
    "# X_tsne_temp = pickle.load(open(\"X_Tsne.pkl\", \"rb\") )\n",
    "# output = open('output_file', 'w')\n",
    "# output_labels = open('labels', 'w')\n",
    "# for label in labels:\n",
    "#     output_labels.write(str(label[0])+\"\\n\")\n",
    "# file = open(\"X_Tsne.pkl\",'wb')\n",
    "# pickle.dump(X_tsne, file)"
   ]
  },
  {
   "cell_type": "code",
   "execution_count": null,
   "metadata": {},
   "outputs": [],
   "source": [
    "w2vec.most_similar(\"electron\", topn=10)"
   ]
  },
  {
   "cell_type": "code",
   "execution_count": null,
   "metadata": {},
   "outputs": [],
   "source": [
    "labels = []\n",
    "final_features = []\n",
    "final_word_vector = []\n",
    "\n",
    "for df in dataframes:\n",
    "#     for (index, sentence) in dataframes[df].title.iteritems():\n",
    "#         words = str(sentence).split()\n",
    "#         words = [lemma.lemmatize(word) for word in words]\n",
    "#         for word in words:\n",
    "#             if word in vocab:\n",
    "#                 labels.append([df])\n",
    "#                 final_features.append(w2vec[word])\n",
    "#                 final_word_vector.append(word)\n",
    "\n",
    "    for (index, sentence) in dataframes[df].tags.iteritems():\n",
    "        words = str(sentence).split()\n",
    "        words = [lemma.lemmatize(word) for word in words]\n",
    "        for word in words:\n",
    "            if word in vocab:\n",
    "                labels.append([df])\n",
    "#                 final_features.append(w2vec[word])\n",
    "                final_word_vector.append(word)"
   ]
  },
  {
   "cell_type": "code",
   "execution_count": null,
   "metadata": {},
   "outputs": [],
   "source": [
    "print(len(final_features), len(final_word_vector), len(labels))"
   ]
  },
  {
   "cell_type": "code",
   "execution_count": null,
   "metadata": {
    "collapsed": true
   },
   "outputs": [],
   "source": [
    "label_file = open(feature_folder+\"labels.pkl\", \"wb\")\n",
    "pickle.dump(labels, label_file)"
   ]
  },
  {
   "cell_type": "code",
   "execution_count": null,
   "metadata": {
    "collapsed": true
   },
   "outputs": [],
   "source": [
    "feature_file = open(feature_folder+\"features.pkl\", \"wb\")\n",
    "pickle.dump(final_features, feature_file)"
   ]
  },
  {
   "cell_type": "code",
   "execution_count": null,
   "metadata": {
    "collapsed": true
   },
   "outputs": [],
   "source": [
    "words_file = open(feature_folder+\"final_words.pkl\",\"wb\")\n",
    "pickle.dump(final_word_vector, words_file)"
   ]
  },
  {
   "cell_type": "code",
   "execution_count": null,
   "metadata": {},
   "outputs": [],
   "source": [
    "print(\"Hello World\")"
   ]
  }
 ],
 "metadata": {
  "kernelspec": {
   "display_name": "Python 3",
   "language": "python",
   "name": "python3"
  },
  "language_info": {
   "codemirror_mode": {
    "name": "ipython",
    "version": 3
   },
   "file_extension": ".py",
   "mimetype": "text/x-python",
   "name": "python",
   "nbconvert_exporter": "python",
   "pygments_lexer": "ipython3",
   "version": "3.6.1"
  }
 },
 "nbformat": 4,
 "nbformat_minor": 2
}
