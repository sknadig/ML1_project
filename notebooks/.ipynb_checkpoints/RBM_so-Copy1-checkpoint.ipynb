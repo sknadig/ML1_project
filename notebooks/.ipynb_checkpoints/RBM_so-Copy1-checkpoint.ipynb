{
 "cells": [
  {
   "cell_type": "code",
   "execution_count": 2,
   "metadata": {
    "collapsed": true
   },
   "outputs": [],
   "source": [
    "import numpy as np\n",
    "import matplotlib.pyplot as plt\n",
    "from tfrbm import BBRBM, GBRBM\n",
    "from tensorflow.examples.tutorials.mnist import input_data\n",
    "import pickle"
   ]
  },
  {
   "cell_type": "code",
   "execution_count": 3,
   "metadata": {
    "collapsed": true
   },
   "outputs": [],
   "source": [
    "rbm_feat_c_file = pickle.load(open(\"/home/neo/ml1/data/light/rbm_feat_c.pkl\",\"rb\"))"
   ]
  },
  {
   "cell_type": "code",
   "execution_count": 8,
   "metadata": {},
   "outputs": [],
   "source": [
    "gbrbm = GBRBM(n_visible=1024, n_hidden=512, learning_rate=0.01, momentum=0.95, use_tqdm=True)"
   ]
  },
  {
   "cell_type": "code",
   "execution_count": null,
   "metadata": {},
   "outputs": [
    {
     "name": "stdout",
     "output_type": "stream",
     "text": [
      "Epoch: 0: 100%|##########| 1690/1690 [00:41<00:00, 40.66it/s]\n",
      "Train error: 0.0490\n",
      "\n",
      "Epoch: 1: 100%|##########| 1690/1690 [00:41<00:00, 40.74it/s]\n",
      "Train error: 0.0480\n",
      "\n",
      "Epoch: 2: 100%|##########| 1690/1690 [00:41<00:00, 40.28it/s]\n",
      "Train error: 0.0480\n",
      "\n",
      "Epoch: 3: 100%|##########| 1690/1690 [00:40<00:00, 41.98it/s]\n",
      "Train error: 0.0479\n",
      "\n",
      "Epoch: 4: 100%|##########| 1690/1690 [00:42<00:00, 39.87it/s]\n",
      "Train error: 0.0478\n",
      "\n",
      "Epoch: 5: 100%|##########| 1690/1690 [00:42<00:00, 39.85it/s]\n",
      "Train error: 0.0478\n",
      "\n",
      "Epoch: 6: 100%|##########| 1690/1690 [00:41<00:00, 40.46it/s]\n",
      "Train error: 0.0477\n",
      "\n",
      "Epoch: 7: 100%|##########| 1690/1690 [00:41<00:00, 40.25it/s]\n",
      "Train error: 0.0477\n",
      "\n",
      "Epoch: 8: 100%|##########| 1690/1690 [00:42<00:00, 39.78it/s]\n",
      "Train error: 0.0477\n",
      "\n",
      "Epoch: 9: 100%|##########| 1690/1690 [00:41<00:00, 40.81it/s]\n",
      "Train error: 0.0477\n",
      "\n",
      "Epoch: 10: 100%|##########| 1690/1690 [00:41<00:00, 40.52it/s]\n",
      "Train error: 0.0477\n",
      "\n",
      "Epoch: 11: 100%|##########| 1690/1690 [00:42<00:00, 39.94it/s]\n",
      "Train error: 0.0477\n",
      "\n",
      "Epoch: 12: 100%|##########| 1690/1690 [00:42<00:00, 40.01it/s]\n",
      "Train error: 0.0476\n",
      "\n",
      "Epoch: 13:  14%|#4        | 241/1690 [00:06<00:37, 38.98it/s]"
     ]
    }
   ],
   "source": [
    "errs = gbrbm.fit(rbm_feat_c_file, n_epoches=300, batch_size=100)"
   ]
  },
  {
   "cell_type": "code",
   "execution_count": null,
   "metadata": {
    "collapsed": true
   },
   "outputs": [],
   "source": [
    "plt.plot(errs)\n",
    "plt.show()"
   ]
  }
 ],
 "metadata": {
  "kernelspec": {
   "display_name": "Python 3",
   "language": "python",
   "name": "python3"
  },
  "language_info": {
   "codemirror_mode": {
    "name": "ipython",
    "version": 3
   },
   "file_extension": ".py",
   "mimetype": "text/x-python",
   "name": "python",
   "nbconvert_exporter": "python",
   "pygments_lexer": "ipython3",
   "version": "3.6.1"
  }
 },
 "nbformat": 4,
 "nbformat_minor": 2
}
