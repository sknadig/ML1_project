{
 "cells": [
  {
   "cell_type": "code",
   "execution_count": 76,
   "metadata": {},
   "outputs": [],
   "source": [
    "import pandas as pd\n",
    "from nltk.corpus import stopwords\n",
    "import numpy as np\n",
    "from gensim.models import Word2Vec\n",
    "from nltk.stem.wordnet import WordNetLemmatizer\n",
    "lemma = WordNetLemmatizer()"
   ]
  },
  {
   "cell_type": "code",
   "execution_count": 77,
   "metadata": {
    "collapsed": true
   },
   "outputs": [],
   "source": [
    "dataframes = {\n",
    "    \"cooking\": pd.read_csv(\"../data/light/cooking_light.csv\"),\n",
    "    \"crypto\": pd.read_csv(\"../data/light/crypto_light.csv\"),\n",
    "    \"robotics\": pd.read_csv(\"../data/light/robotics_light.csv\"),\n",
    "    \"biology\": pd.read_csv(\"../data/light/biology_light.csv\"),\n",
    "    \"travel\": pd.read_csv(\"../data/light/travel_light.csv\"),\n",
    "    \"diy\": pd.read_csv(\"../data/light/diy_light.csv\"),\n",
    "    \"test\": pd.read_csv(\"../data/light/test_light.csv\"),\n",
    "    \"testorig\": pd.read_csv(\"../data/orig/test.csv\"),\n",
    "}"
   ]
  },
  {
   "cell_type": "code",
   "execution_count": 78,
   "metadata": {
    "collapsed": true
   },
   "outputs": [],
   "source": [
    "new_df = pd.concat([dataframes[\"cooking\"], dataframes[\"crypto\"], dataframes[\"robotics\"],\\\n",
    "                    dataframes[\"biology\"], dataframes[\"travel\"], dataframes[\"diy\"]\\\n",
    "                   ], axis=0)"
   ]
  },
  {
   "cell_type": "code",
   "execution_count": 79,
   "metadata": {
    "collapsed": true
   },
   "outputs": [],
   "source": [
    "#new_df.to_csv(\"dbm_text.csv\", index=False, sep='\\t', encoding='utf-8')"
   ]
  },
  {
   "cell_type": "code",
   "execution_count": 90,
   "metadata": {
    "collapsed": true
   },
   "outputs": [],
   "source": [
    "word_vector = []"
   ]
  },
  {
   "cell_type": "code",
   "execution_count": 91,
   "metadata": {},
   "outputs": [],
   "source": [
    "for (index, sentence) in new_df[\"title\"].iteritems():\n",
    "    words = sentence.split()\n",
    "    words = [lemma.lemmatize(word) for word in words]\n",
    "    word_vector.append(words)"
   ]
  },
  {
   "cell_type": "code",
   "execution_count": 92,
   "metadata": {},
   "outputs": [],
   "source": [
    "for (index, sentence) in new_df[\"content\"].iteritems():\n",
    "    words = str(sentence).split()\n",
    "    words = [lemma.lemmatize(word) for word in words]\n",
    "    word_vector.append(words)"
   ]
  },
  {
   "cell_type": "code",
   "execution_count": 93,
   "metadata": {
    "collapsed": true
   },
   "outputs": [],
   "source": [
    "w2vec = Word2Vec(word_vector)"
   ]
  },
  {
   "cell_type": "code",
   "execution_count": 94,
   "metadata": {},
   "outputs": [
    {
     "data": {
      "text/plain": [
       "['keep', 'pasta', 'sticking']"
      ]
     },
     "execution_count": 94,
     "metadata": {},
     "output_type": "execute_result"
    }
   ],
   "source": [
    "word_vector[100]"
   ]
  },
  {
   "cell_type": "code",
   "execution_count": 101,
   "metadata": {},
   "outputs": [
    {
     "data": {
      "text/plain": [
       "[('proton', 0.8419977426528931),\n",
       " ('nadh', 0.8282041549682617),\n",
       " ('ion', 0.8022085428237915),\n",
       " ('atp', 0.7927420139312744),\n",
       " ('adp', 0.7847814559936523),\n",
       " ('pyruvate', 0.7714971303939819),\n",
       " ('extracellular', 0.7690209150314331),\n",
       " ('molecule', 0.7669175267219543),\n",
       " ('receptor', 0.7626297473907471),\n",
       " ('vesicle', 0.7618059515953064),\n",
       " ('hydrogen', 0.7593934535980225),\n",
       " ('synthase', 0.7588273286819458),\n",
       " ('synapsis', 0.7548179626464844),\n",
       " ('malate', 0.7471054196357727),\n",
       " ('glucose', 0.7467871904373169),\n",
       " ('phosphorylation', 0.7465381622314453),\n",
       " ('secretion', 0.7443088293075562),\n",
       " ('neurotransmitter', 0.7435760498046875),\n",
       " ('myosin', 0.7432283163070679),\n",
       " ('lipid', 0.7430554628372192)]"
      ]
     },
     "execution_count": 101,
     "metadata": {},
     "output_type": "execute_result"
    }
   ],
   "source": [
    "w2vec.most_similar(\"electron\", topn=20)"
   ]
  },
  {
   "cell_type": "code",
   "execution_count": 103,
   "metadata": {},
   "outputs": [],
   "source": [
    "ck = w2vec[\"cooking\"]"
   ]
  },
  {
   "cell_type": "code",
   "execution_count": 107,
   "metadata": {},
   "outputs": [
    {
     "data": {
      "text/plain": [
       "-0.028589202"
      ]
     },
     "execution_count": 107,
     "metadata": {},
     "output_type": "execute_result"
    }
   ],
   "source": []
  }
 ],
 "metadata": {
  "kernelspec": {
   "display_name": "Python 3",
   "language": "python",
   "name": "python3"
  },
  "language_info": {
   "codemirror_mode": {
    "name": "ipython",
    "version": 3
   },
   "file_extension": ".py",
   "mimetype": "text/x-python",
   "name": "python",
   "nbconvert_exporter": "python",
   "pygments_lexer": "ipython3",
   "version": "3.6.1"
  }
 },
 "nbformat": 4,
 "nbformat_minor": 2
}
