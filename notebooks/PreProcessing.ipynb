{
 "cells": [
  {
   "cell_type": "code",
   "execution_count": 14,
   "metadata": {
    "collapsed": true
   },
   "outputs": [],
   "source": [
    "import pandas as pd\n",
    "from bs4 import BeautifulSoup\n",
    "from nltk.corpus import stopwords\n",
    "import re\n",
    "import string\n",
    "light_loc = \"../data/light/\""
   ]
  },
  {
   "cell_type": "code",
   "execution_count": 15,
   "metadata": {
    "collapsed": true
   },
   "outputs": [],
   "source": [
    "dataframes = {\n",
    "    \"cooking\": pd.read_csv(\"../data/orig/cooking.csv\"),\n",
    "    \"crypto\": pd.read_csv(\"../data/orig/crypto.csv\"),\n",
    "    \"robotics\": pd.read_csv(\"../data/orig/robotics.csv\"),\n",
    "    \"biology\": pd.read_csv(\"../data/orig/biology.csv\"),\n",
    "    \"travel\": pd.read_csv(\"../data/orig/travel.csv\"),\n",
    "    \"diy\": pd.read_csv(\"../data/orig/diy.csv\"),\n",
    "    \"physics\": pd.read_csv(\"../data/orig/test.csv\"),\n",
    "}"
   ]
  },
  {
   "cell_type": "code",
   "execution_count": 16,
   "metadata": {},
   "outputs": [],
   "source": [
    "sample_size = 10000//len(dataframes)\n",
    "for df in dataframes:\n",
    "    dataframes[df] = dataframes[df].sample(n=sample_size)"
   ]
  },
  {
   "cell_type": "code",
   "execution_count": 17,
   "metadata": {
    "collapsed": true
   },
   "outputs": [],
   "source": [
    "for df in dataframes:\n",
    "    dataframes[df][\"label\"] = str(df)"
   ]
  },
  {
   "cell_type": "code",
   "execution_count": 18,
   "metadata": {
    "collapsed": true
   },
   "outputs": [],
   "source": [
    "cookingstop_words = {'a', \"a's\", 'able', 'about', 'above', 'according', 'accordingly',\n",
    "              'across', 'actually', 'after', 'afterwards', 'again', 'against',\n",
    "              \"ain't\", 'all', 'allow', 'allows', 'almost', 'alone', 'along',\n",
    "              'already', 'also', 'although', 'always', 'am', 'among', 'amongst',\n",
    "              'an', 'and', 'another', 'any', 'anybody', 'anyhow', 'anyone',\n",
    "              'anything', 'anyway', 'anyways', 'anywhere', 'apart', 'appear',\n",
    "              'appreciate', 'appropriate', 'are', \"aren't\", 'around', 'as',\n",
    "              'aside', 'ask', 'asking', 'associated', 'at', 'available', 'away',\n",
    "              'awfully', 'b', 'be', 'became', 'because', 'become', 'becomes',\n",
    "              'becoming', 'been', 'before', 'beforehand', 'behind', 'being',\n",
    "              'believe', 'below', 'beside', 'besides', 'best', 'better',\n",
    "              'between', 'beyond', 'both', 'brief', 'but', 'by', 'c', \"c'mon\",\n",
    "              \"c's\", 'came', 'can', \"can't\", 'cannot', 'cant', 'cause',\n",
    "              'causes', 'certain', 'certainly', 'changes', 'clearly', 'co',\n",
    "              'com', 'come', 'comes', 'concerning', 'consequently', 'consider',\n",
    "              'considering', 'contain', 'containing', 'contains',\n",
    "              'corresponding', 'could', \"couldn't\", 'course', 'currently', 'd',\n",
    "              'definitely', 'described', 'despite', 'did', \"didn't\",\n",
    "              'different', 'do', 'does', \"doesn't\", 'doing', \"don't\", 'done',\n",
    "              'down', 'downwards', 'during', 'e', 'each', 'edu', 'eg', 'eight',\n",
    "              'either', 'else', 'elsewhere', 'enough', 'entirely', 'especially',\n",
    "              'et', 'etc', 'even', 'ever', 'every', 'everybody', 'everyone',\n",
    "              'everything', 'everywhere', 'ex', 'exactly', 'example', 'except',\n",
    "              'f', 'far', 'few', 'fifth', 'first', 'five', 'followed',\n",
    "              'following', 'follows', 'for', 'former', 'formerly', 'forth',\n",
    "              'four', 'from', 'further', 'furthermore', 'g', 'get', 'gets',\n",
    "              'getting', 'given', 'gives', 'go', 'goes', 'going', 'gone', 'got',\n",
    "              'gotten', 'greetings', 'h', 'had', \"hadn't\", 'happens', 'hardly',\n",
    "              'has', \"hasn't\", 'have', \"haven't\", 'having', 'he', \"he's\",\n",
    "              'hello', 'help', 'hence', 'her', 'here', \"here's\", 'hereafter',\n",
    "              'hereby', 'herein', 'hereupon', 'hers', 'herself', 'hi', 'him',\n",
    "              'himself', 'his', 'hither', 'hopefully', 'how', 'howbeit',\n",
    "              'however', 'i', \"i'd\", \"i'll\", \"i'm\", \"i've\", 'ie', 'if',\n",
    "              'ignored', 'immediate', 'in', 'inasmuch', 'inc', 'indeed',\n",
    "              'indicate', 'indicated', 'indicates', 'inner', 'insofar',\n",
    "              'instead', 'into', 'inward', 'is', \"isn't\", 'it', \"it'd\", \"it'll\",\n",
    "              \"it's\", 'its', 'itself', 'j', 'just', 'k', 'keep', 'keeps',\n",
    "              'kept', 'know', 'knows', 'known', 'l', 'last', 'lately', 'later',\n",
    "              'latter', 'latterly', 'least', 'less', 'lest', 'let', \"let's\",\n",
    "              'like', 'liked', 'likely', 'little', 'look', 'looking', 'looks',\n",
    "              'ltd', 'm', 'mainly', 'many', 'may', 'maybe', 'me', 'mean',\n",
    "              'meanwhile', 'merely', 'might', 'more', 'moreover', 'most',\n",
    "              'mostly', 'much', 'must', 'my', 'myself', 'n', 'name', 'namely',\n",
    "              'nd', 'near', 'nearly', 'necessary', 'need', 'needs', 'neither',\n",
    "              'never', 'nevertheless', 'new', 'next', 'nine', 'no', 'nobody',\n",
    "              'non', 'none', 'noone', 'nor', 'normally', 'not', 'nothing',\n",
    "              'novel', 'now', 'nowhere', 'o', 'obviously', 'of', 'off', 'often',\n",
    "              'oh', 'ok', 'okay', 'old', 'on', 'once', 'one', 'ones', 'only',\n",
    "              'onto', 'or', 'other', 'others', 'otherwise', 'ought', 'our',\n",
    "              'ours', 'ourselves', 'out', 'outside', 'over', 'overall', 'own',\n",
    "              'p', 'particular', 'particularly', 'per', 'perhaps', 'placed',\n",
    "              'please', 'plus', 'possible', 'presumably', 'probably',\n",
    "              'provides', 'q', 'que', 'quite', 'qv', 'r', 'rather', 'rd', 're',\n",
    "              'really', 'reasonably', 'regarding', 'regardless', 'regards',\n",
    "              'relatively', 'respectively', 'right', 's', 'said', 'same', 'saw',\n",
    "              'say', 'saying', 'says', 'second', 'secondly', 'see', 'seeing',\n",
    "              'seem', 'seemed', 'seeming', 'seems', 'seen', 'self', 'selves',\n",
    "              'sensible', 'sent', 'serious', 'seriously', 'seven', 'several',\n",
    "              'shall', 'she', 'should', \"shouldn't\", 'since', 'six', 'so',\n",
    "              'some', 'somebody', 'somehow', 'someone', 'something', 'sometime',\n",
    "              'sometimes', 'somewhat', 'somewhere', 'soon', 'sorry',\n",
    "              'specified', 'specify', 'specifying', 'still', 'sub', 'such',\n",
    "              'sup', 'sure', 't', \"t's\", 'take', 'taken', 'tell', 'tends', 'th',\n",
    "              'than', 'thank', 'thanks', 'thanx', 'that', \"that's\", 'thats',\n",
    "              'the', 'their', 'theirs', 'them', 'themselves', 'then', 'thence',\n",
    "              'there', \"there's\", 'thereafter', 'thereby', 'therefore',\n",
    "              'therein', 'theres', 'thereupon', 'these', 'they', \"they'd\",\n",
    "              \"they'll\", \"they're\", \"they've\", 'think', 'third', 'this',\n",
    "              'thorough', 'thoroughly', 'those', 'though', 'three', 'through',\n",
    "              'throughout', 'thru', 'thus', 'to', 'together', 'too', 'took',\n",
    "              'toward', 'towards', 'tried', 'tries', 'truly', 'try', 'trying',\n",
    "              'twice', 'two', 'u', 'un', 'under', 'unfortunately', 'unless',\n",
    "              'unlikely', 'until', 'unto', 'up', 'upon', 'us', 'use', 'used',\n",
    "              'useful', 'uses', 'using', 'usually', 'uucp', 'v', 'value',\n",
    "              'various', 'very', 'via', 'viz', 'vs', 'w', 'want', 'wants',\n",
    "              'was', \"wasn't\", 'way', 'we', \"we'd\", \"we'll\", \"we're\", \"we've\",\n",
    "              'welcome', 'well', 'went', 'were', \"weren't\", 'what', \"what's\",\n",
    "              'whatever', 'when', 'whence', 'whenever', 'where', \"where's\",\n",
    "              'whereafter', 'whereas', 'whereby', 'wherein', 'whereupon',\n",
    "              'wherever', 'whether', 'which', 'while', 'whither', 'who',\n",
    "              \"who's\", 'whoever', 'whole', 'whom', 'whose', 'why', 'will',\n",
    "              'willing', 'wish', 'with', 'within', 'without', \"won't\", 'wonder',\n",
    "              'would', 'would', \"wouldn't\", 'x', 'y', 'yes', 'yet', 'you',\n",
    "              \"you'd\", \"you'll\", \"you're\", \"you've\", 'your', 'yours',\n",
    "              'yourself', 'yourselves', 'z', 'zero', ''}"
   ]
  },
  {
   "cell_type": "code",
   "execution_count": 19,
   "metadata": {
    "collapsed": true
   },
   "outputs": [],
   "source": [
    "new_df = pd.DataFrame()\n",
    "for df in dataframes:\n",
    "    dataframes[df].drop(\"id\",1)\n",
    "    new_df = new_df.append(dataframes[df], ignore_index=True)"
   ]
  },
  {
   "cell_type": "code",
   "execution_count": 20,
   "metadata": {
    "collapsed": true
   },
   "outputs": [],
   "source": [
    "uri_re = r'(?i)\\b((?:https?://|www\\d{0,3}[.]|[a-z0-9.\\-]+[.][a-z]{2,4}/)(?:[^\\s()<>]+|\\(([^\\s()<>]+|(\\([^\\s()<>]+\\)))*\\))+(?:\\(([^\\s()<>]+|(\\([^\\s()<>]+\\)))*\\)|[^\\s`!()\\[\\]{};:\\'\".,<>?«»“”‘’]))'"
   ]
  },
  {
   "cell_type": "code",
   "execution_count": 21,
   "metadata": {
    "collapsed": true
   },
   "outputs": [],
   "source": [
    "def stripTagsAndUris(x):\n",
    "    if x:\n",
    "        # BeautifulSoup on content\n",
    "        soup = BeautifulSoup(x, \"html.parser\")\n",
    "        # Stripping all <code> tags with their content if any\n",
    "        if soup.code:\n",
    "            soup.code.decompose()\n",
    "        # Get all the text out of the html\n",
    "        text =  soup.get_text()\n",
    "        # Returning text stripping out all uris\n",
    "        return re.sub(uri_re, \"\", text)\n",
    "    else:\n",
    "        return \"\""
   ]
  },
  {
   "cell_type": "code",
   "execution_count": 22,
   "metadata": {
    "collapsed": true
   },
   "outputs": [],
   "source": [
    "new_df[\"content\"] = new_df[\"content\"].map(stripTagsAndUris)"
   ]
  },
  {
   "cell_type": "code",
   "execution_count": 23,
   "metadata": {
    "collapsed": true
   },
   "outputs": [],
   "source": [
    "def removePunctuation(x):\n",
    "    # Lowercasing all words\n",
    "    x = x.lower()\n",
    "    # Removing non ASCII chars\n",
    "    x = re.sub(r'[^\\x00-\\x7f]',r' ',x)\n",
    "    # Removing (replacing with empty spaces actually) all the punctuations\n",
    "    return re.sub(\"[\"+string.punctuation+\"]\", \" \", x)"
   ]
  },
  {
   "cell_type": "code",
   "execution_count": 24,
   "metadata": {
    "collapsed": true
   },
   "outputs": [],
   "source": [
    "new_df[\"title\"] = new_df[\"title\"].map(removePunctuation)\n",
    "new_df[\"content\"] = new_df[\"content\"].map(removePunctuation)"
   ]
  },
  {
   "cell_type": "code",
   "execution_count": 25,
   "metadata": {
    "collapsed": true
   },
   "outputs": [],
   "source": [
    "stops = set(stopwords.words(\"english\"))\n",
    "def removeStopwords(x):\n",
    "    # Removing all the stopwords\n",
    "    filtered_words = [word for word in x.split() if word not in stops]\n",
    "    filtered_words = [word for word in x.split() if word not in stop_words and word.isalpha()]\n",
    "    return \" \".join(filtered_words)"
   ]
  },
  {
   "cell_type": "code",
   "execution_count": 26,
   "metadata": {
    "collapsed": true
   },
   "outputs": [],
   "source": [
    "new_df[\"title\"] = new_df[\"title\"].map(removeStopwords)\n",
    "new_df[\"content\"] = new_df[\"content\"].map(removeStopwords)"
   ]
  },
  {
   "cell_type": "code",
   "execution_count": 27,
   "metadata": {
    "collapsed": true
   },
   "outputs": [],
   "source": [
    "for name, df in dataframes.items():\n",
    "    # Saving to file\n",
    "    df.to_csv(light_loc+name + \"_light.csv\", index=False)"
   ]
  }
 ],
 "metadata": {
  "kernelspec": {
   "display_name": "Python 3",
   "language": "python",
   "name": "python3"
  },
  "language_info": {
   "codemirror_mode": {
    "name": "ipython",
    "version": 3
   },
   "file_extension": ".py",
   "mimetype": "text/x-python",
   "name": "python",
   "nbconvert_exporter": "python",
   "pygments_lexer": "ipython3",
   "version": "3.6.1"
  }
 },
 "nbformat": 4,
 "nbformat_minor": 2
}
