{
 "cells": [
  {
   "cell_type": "code",
   "execution_count": 1,
   "metadata": {},
   "outputs": [],
   "source": [
    "import pandas as pd"
   ]
  },
  {
   "cell_type": "code",
   "execution_count": 2,
   "metadata": {},
   "outputs": [
    {
     "data": {
      "text/html": [
       "<div>\n",
       "<style>\n",
       "    .dataframe thead tr:only-child th {\n",
       "        text-align: right;\n",
       "    }\n",
       "\n",
       "    .dataframe thead th {\n",
       "        text-align: left;\n",
       "    }\n",
       "\n",
       "    .dataframe tbody tr th {\n",
       "        vertical-align: top;\n",
       "    }\n",
       "</style>\n",
       "<table border=\"1\" class=\"dataframe\">\n",
       "  <thead>\n",
       "    <tr style=\"text-align: right;\">\n",
       "      <th></th>\n",
       "      <th>id</th>\n",
       "      <th>title</th>\n",
       "      <th>content</th>\n",
       "    </tr>\n",
       "  </thead>\n",
       "  <tbody>\n",
       "    <tr>\n",
       "      <th>0</th>\n",
       "      <td>1</td>\n",
       "      <td>spin relates subatomic particles</td>\n",
       "      <td>often hear subatomic particles property called...</td>\n",
       "    </tr>\n",
       "    <tr>\n",
       "      <th>1</th>\n",
       "      <td>2</td>\n",
       "      <td>simplest explanation string theory</td>\n",
       "      <td>would explain string theory non physicists spe...</td>\n",
       "    </tr>\n",
       "    <tr>\n",
       "      <th>2</th>\n",
       "      <td>3</td>\n",
       "      <td>lie theory representations particle physics</td>\n",
       "      <td>question posted many different forums thought ...</td>\n",
       "    </tr>\n",
       "    <tr>\n",
       "      <th>3</th>\n",
       "      <td>7</td>\n",
       "      <td>determinism ever possible</td>\n",
       "      <td>main problems need solve prove laplace determi...</td>\n",
       "    </tr>\n",
       "    <tr>\n",
       "      <th>4</th>\n",
       "      <td>9</td>\n",
       "      <td>hamilton principle</td>\n",
       "      <td>hamilton principle states dynamic system alway...</td>\n",
       "    </tr>\n",
       "  </tbody>\n",
       "</table>\n",
       "</div>"
      ],
      "text/plain": [
       "   id                                        title  \\\n",
       "0   1             spin relates subatomic particles   \n",
       "1   2           simplest explanation string theory   \n",
       "2   3  lie theory representations particle physics   \n",
       "3   7                    determinism ever possible   \n",
       "4   9                           hamilton principle   \n",
       "\n",
       "                                             content  \n",
       "0  often hear subatomic particles property called...  \n",
       "1  would explain string theory non physicists spe...  \n",
       "2  question posted many different forums thought ...  \n",
       "3  main problems need solve prove laplace determi...  \n",
       "4  hamilton principle states dynamic system alway...  "
      ]
     },
     "execution_count": 2,
     "metadata": {},
     "output_type": "execute_result"
    }
   ],
   "source": [
    "testData = pd.read_csv(\"../../data/light/test_light.csv\")\n",
    "testData.head()"
   ]
  },
  {
   "cell_type": "code",
   "execution_count": 3,
   "metadata": {},
   "outputs": [],
   "source": [
    "title = testData.title\n",
    "content = testData.content"
   ]
  },
  {
   "cell_type": "code",
   "execution_count": 4,
   "metadata": {
    "collapsed": true
   },
   "outputs": [],
   "source": [
    "# stop words list\n",
    "stop_words = {'a', \"a's\", 'able', 'about', 'above', 'according', 'accordingly',\n",
    "              'across', 'actually', 'after', 'afterwards', 'again', 'against',\n",
    "              \"ain't\", 'all', 'allow', 'allows', 'almost', 'alone', 'along',\n",
    "              'already', 'also', 'although', 'always', 'am', 'among', 'amongst',\n",
    "              'an', 'and', 'another', 'any', 'anybody', 'anyhow', 'anyone',\n",
    "              'anything', 'anyway', 'anyways', 'anywhere', 'apart', 'appear',\n",
    "              'appreciate', 'appropriate', 'are', \"aren't\", 'around', 'as',\n",
    "              'aside', 'ask', 'asking', 'associated', 'at', 'available', 'away',\n",
    "              'awfully', 'b', 'be', 'became', 'because', 'become', 'becomes',\n",
    "              'becoming', 'been', 'before', 'beforehand', 'behind', 'being',\n",
    "              'believe', 'below', 'beside', 'besides', 'best', 'better',\n",
    "              'between', 'beyond', 'both', 'brief', 'but', 'by', 'c', \"c'mon\",\n",
    "              \"c's\", 'came', 'can', \"can't\", 'cannot', 'cant', 'cause',\n",
    "              'causes', 'certain', 'certainly', 'changes', 'clearly', 'co',\n",
    "              'com', 'come', 'comes', 'concerning', 'consequently', 'consider',\n",
    "              'considering', 'contain', 'containing', 'contains',\n",
    "              'corresponding', 'could', \"couldn't\", 'course', 'currently', 'd',\n",
    "              'definitely', 'described', 'despite', 'did', \"didn't\",\n",
    "              'different', 'do', 'does', \"doesn't\", 'doing', \"don't\", 'done',\n",
    "              'down', 'downwards', 'during', 'e', 'each', 'edu', 'eg', 'eight',\n",
    "              'either', 'else', 'elsewhere', 'enough', 'entirely', 'especially',\n",
    "              'et', 'etc', 'even', 'ever', 'every', 'everybody', 'everyone',\n",
    "              'everything', 'everywhere', 'ex', 'exactly', 'example', 'except',\n",
    "              'f', 'far', 'few', 'fifth', 'first', 'five', 'followed',\n",
    "              'following', 'follows', 'for', 'former', 'formerly', 'forth',\n",
    "              'four', 'from', 'further', 'furthermore', 'g', 'get', 'gets',\n",
    "              'getting', 'given', 'gives', 'go', 'goes', 'going', 'gone', 'got',\n",
    "              'gotten', 'greetings', 'h', 'had', \"hadn't\", 'happens', 'hardly',\n",
    "              'has', \"hasn't\", 'have', \"haven't\", 'having', 'he', \"he's\",\n",
    "              'hello', 'help', 'hence', 'her', 'here', \"here's\", 'hereafter',\n",
    "              'hereby', 'herein', 'hereupon', 'hers', 'herself', 'hi', 'him',\n",
    "              'himself', 'his', 'hither', 'hopefully', 'how', 'howbeit',\n",
    "              'however', 'i', \"i'd\", \"i'll\", \"i'm\", \"i've\", 'ie', 'if',\n",
    "              'ignored', 'immediate', 'in', 'inasmuch', 'inc', 'indeed',\n",
    "              'indicate', 'indicated', 'indicates', 'inner', 'insofar',\n",
    "              'instead', 'into', 'inward', 'is', \"isn't\", 'it', \"it'd\", \"it'll\",\n",
    "              \"it's\", 'its', 'itself', 'j', 'just', 'k', 'keep', 'keeps',\n",
    "              'kept', 'know', 'knows', 'known', 'l', 'last', 'lately', 'later',\n",
    "              'latter', 'latterly', 'least', 'less', 'lest', 'let', \"let's\",\n",
    "              'like', 'liked', 'likely', 'little', 'look', 'looking', 'looks',\n",
    "              'ltd', 'm', 'mainly', 'many', 'may', 'maybe', 'me', 'mean',\n",
    "              'meanwhile', 'merely', 'might', 'more', 'moreover', 'most',\n",
    "              'mostly', 'much', 'must', 'my', 'myself', 'n', 'name', 'namely',\n",
    "              'nd', 'near', 'nearly', 'necessary', 'need', 'needs', 'neither',\n",
    "              'never', 'nevertheless', 'new', 'next', 'nine', 'no', 'nobody',\n",
    "              'non', 'none', 'noone', 'nor', 'normally', 'not', 'nothing',\n",
    "              'novel', 'now', 'nowhere', 'o', 'obviously', 'of', 'off', 'often',\n",
    "              'oh', 'ok', 'okay', 'old', 'on', 'once', 'one', 'ones', 'only',\n",
    "              'onto', 'or', 'other', 'others', 'otherwise', 'ought', 'our',\n",
    "              'ours', 'ourselves', 'out', 'outside', 'over', 'overall', 'own',\n",
    "              'p', 'particular', 'particularly', 'per', 'perhaps', 'placed',\n",
    "              'please', 'plus', 'possible', 'presumably', 'probably',\n",
    "              'provides', 'q', 'que', 'quite', 'qv', 'r', 'rather', 'rd', 're',\n",
    "              'really', 'reasonably', 'regarding', 'regardless', 'regards',\n",
    "              'relatively', 'respectively', 'right', 's', 'said', 'same', 'saw',\n",
    "              'say', 'saying', 'says', 'second', 'secondly', 'see', 'seeing',\n",
    "              'seem', 'seemed', 'seeming', 'seems', 'seen', 'self', 'selves',\n",
    "              'sensible', 'sent', 'serious', 'seriously', 'seven', 'several',\n",
    "              'shall', 'she', 'should', \"shouldn't\", 'since', 'six', 'so',\n",
    "              'some', 'somebody', 'somehow', 'someone', 'something', 'sometime',\n",
    "              'sometimes', 'somewhat', 'somewhere', 'soon', 'sorry',\n",
    "              'specified', 'specify', 'specifying', 'still', 'sub', 'such',\n",
    "              'sup', 'sure', 't', \"t's\", 'take', 'taken', 'tell', 'tends', 'th',\n",
    "              'than', 'thank', 'thanks', 'thanx', 'that', \"that's\", 'thats',\n",
    "              'the', 'their', 'theirs', 'them', 'themselves', 'then', 'thence',\n",
    "              'there', \"there's\", 'thereafter', 'thereby', 'therefore',\n",
    "              'therein', 'theres', 'thereupon', 'these', 'they', \"they'd\",\n",
    "              \"they'll\", \"they're\", \"they've\", 'think', 'third', 'this',\n",
    "              'thorough', 'thoroughly', 'those', 'though', 'three', 'through',\n",
    "              'throughout', 'thru', 'thus', 'to', 'together', 'too', 'took',\n",
    "              'toward', 'towards', 'tried', 'tries', 'truly', 'try', 'trying',\n",
    "              'twice', 'two', 'u', 'un', 'under', 'unfortunately', 'unless',\n",
    "              'unlikely', 'until', 'unto', 'up', 'upon', 'us', 'use', 'used',\n",
    "              'useful', 'uses', 'using', 'usually', 'uucp', 'v', 'value',\n",
    "              'various', 'very', 'via', 'viz', 'vs', 'w', 'want', 'wants',\n",
    "              'was', \"wasn't\", 'way', 'we', \"we'd\", \"we'll\", \"we're\", \"we've\",\n",
    "              'welcome', 'well', 'went', 'were', \"weren't\", 'what', \"what's\",\n",
    "              'whatever', 'when', 'whence', 'whenever', 'where', \"where's\",\n",
    "              'whereafter', 'whereas', 'whereby', 'wherein', 'whereupon',\n",
    "              'wherever', 'whether', 'which', 'while', 'whither', 'who',\n",
    "              \"who's\", 'whoever', 'whole', 'whom', 'whose', 'why', 'will',\n",
    "              'willing', 'wish', 'with', 'within', 'without', \"won't\", 'wonder',\n",
    "              'would', 'would', \"wouldn't\", 'x', 'y', 'yes', 'yet', 'you',\n",
    "              \"you'd\", \"you'll\", \"you're\", \"you've\", 'your', 'yours',\n",
    "              'yourself', 'yourselves', 'z', 'zero', ''}"
   ]
  },
  {
   "cell_type": "code",
   "execution_count": 7,
   "metadata": {
    "collapsed": true
   },
   "outputs": [],
   "source": [
    "import re\n",
    "def get_words(text):\n",
    "    word_split = re.compile('[^a-zA-Z0-9_\\\\+\\\\-/]')\n",
    "    return [word.strip().lower() for word in word_split.split(text)]"
   ]
  },
  {
   "cell_type": "code",
   "execution_count": 25,
   "metadata": {},
   "outputs": [],
   "source": [
    "cleanTitle = []\n",
    "for t in title:\n",
    "    words = get_words(t)\n",
    "#     print(t)\n",
    "    tempStr = \"\"\n",
    "    for word in words:\n",
    "        if word not in stop_words and word.isalpha():\n",
    "            tempStr = tempStr + \" \"+word\n",
    "#     print(tempStr.strip())\n",
    "    cleanTitle.append(tempStr.strip())\n",
    "    tempStr = \"\""
   ]
  },
  {
   "cell_type": "code",
   "execution_count": 26,
   "metadata": {},
   "outputs": [],
   "source": [
    "cleanContent = []\n",
    "for t in title:\n",
    "    words = get_words(t)\n",
    "#     print(t)\n",
    "    tempStr = \"\"\n",
    "    for word in words:\n",
    "        if word not in stop_words and word.isalpha():\n",
    "            tempStr = tempStr + \" \"+word\n",
    "#     print(tempStr.strip())\n",
    "    cleanContent.append(tempStr.strip())\n",
    "    tempStr = \"\""
   ]
  },
  {
   "cell_type": "code",
   "execution_count": 27,
   "metadata": {
    "collapsed": true
   },
   "outputs": [],
   "source": [
    "testData.title = cleanTitle\n",
    "testData.content = cleanContent"
   ]
  },
  {
   "cell_type": "code",
   "execution_count": 28,
   "metadata": {
    "collapsed": true
   },
   "outputs": [],
   "source": [
    "testData.to_csv(\"../../data/light/test_light.csv\")"
   ]
  },
  {
   "cell_type": "code",
   "execution_count": 29,
   "metadata": {},
   "outputs": [
    {
     "name": "stdout",
     "output_type": "stream",
     "text": [
      "/home/neo/ml1/code/LDA\r\n"
     ]
    }
   ],
   "source": [
    "! pwd"
   ]
  },
  {
   "cell_type": "code",
   "execution_count": 30,
   "metadata": {
    "collapsed": true
   },
   "outputs": [],
   "source": [
    "! cd ../../data"
   ]
  },
  {
   "cell_type": "code",
   "execution_count": 31,
   "metadata": {},
   "outputs": [
    {
     "name": "stdout",
     "output_type": "stream",
     "text": [
      "total 20468\r\n",
      "-rw-rw-r-- 1 neo neo 3169754 Nov 23 13:59 ldaContent.state\r\n",
      "-rw-rw-r-- 1 neo neo 2473008 Nov 23 13:59 ldaContent.id2word\r\n",
      "-rw-rw-r-- 1 neo neo 1740152 Nov 23 13:59 ldaContent.expElogbeta.npy\r\n",
      "-rw-rw-r-- 1 neo neo  657400 Nov 23 13:59 ldaContent\r\n",
      "-rw-rw-r-- 1 neo neo 3238017 Nov 23 14:04 lda_title_Content.state\r\n",
      "-rw-rw-r-- 1 neo neo 2537061 Nov 23 14:04 lda_title_Content.id2word\r\n",
      "-rw-rw-r-- 1 neo neo 1777520 Nov 23 14:04 lda_title_Content.expElogbeta.npy\r\n",
      "-rw-rw-r-- 1 neo neo  671419 Nov 23 14:04 lda_title_Content\r\n",
      "-rw-rw-r-- 1 neo neo  815459 Nov 24 06:21 lda_title.state\r\n",
      "-rw-rw-r-- 1 neo neo  622207 Nov 24 06:21 lda_title.id2word\r\n",
      "-rw-rw-r-- 1 neo neo  445928 Nov 24 06:21 lda_title.expElogbeta.npy\r\n",
      "-rw-rw-r-- 1 neo neo  172076 Nov 24 06:21 lda_title\r\n",
      "-rw-rw-r-- 1 neo neo    7406 Nov 24 06:21 lda_title_content.ipynb\r\n",
      "-rw-rw-r-- 1 neo neo 2565370 Nov 24 16:38 results.csv\r\n",
      "-rw-rw-r-- 1 neo neo   26360 Nov 24 18:19 lda.ipynb\r\n",
      "-rw-rw-r-- 1 neo neo   13595 Nov 24 18:20 Untitled.ipynb\r\n"
     ]
    }
   ],
   "source": [
    "! ls -ltr"
   ]
  },
  {
   "cell_type": "code",
   "execution_count": 32,
   "metadata": {
    "collapsed": true
   },
   "outputs": [],
   "source": [
    "! touch test.csv"
   ]
  },
  {
   "cell_type": "code",
   "execution_count": 33,
   "metadata": {
    "collapsed": true
   },
   "outputs": [],
   "source": [
    "! sudo chmod 777 test.csv"
   ]
  },
  {
   "cell_type": "code",
   "execution_count": null,
   "metadata": {
    "collapsed": true
   },
   "outputs": [],
   "source": []
  }
 ],
 "metadata": {
  "kernelspec": {
   "display_name": "Python 3",
   "language": "python",
   "name": "python3"
  },
  "language_info": {
   "codemirror_mode": {
    "name": "ipython",
    "version": 3
   },
   "file_extension": ".py",
   "mimetype": "text/x-python",
   "name": "python",
   "nbconvert_exporter": "python",
   "pygments_lexer": "ipython3",
   "version": "3.6.1"
  }
 },
 "nbformat": 4,
 "nbformat_minor": 2
}
