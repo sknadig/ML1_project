{
 "cells": [
  {
   "cell_type": "markdown",
   "metadata": {},
   "source": [
    "# Latent Dirichlet Allocation for Topic Modeling\n",
    "\n",
    "<ul>\n",
    "    <li>LDA assumes documents are produced from a mixture of topics.</li> \n",
    "    <li>Those topics then generate words based on their probability distribution.</li> \n",
    "    <li>Given a dataset of documents, LDA backtracks and tries to figure out what topics would create those documents in the first place.</li>"
   ]
  },
  {
   "cell_type": "code",
   "execution_count": 1,
   "metadata": {
    "collapsed": true
   },
   "outputs": [],
   "source": [
    "from nltk.corpus import stopwords \n",
    "from nltk.stem.wordnet import WordNetLemmatizer\n",
    "import string\n",
    "# Importing Gensim\n",
    "import gensim\n",
    "from gensim import corpora"
   ]
  },
  {
   "cell_type": "code",
   "execution_count": 2,
   "metadata": {},
   "outputs": [
    {
     "data": {
      "text/html": [
       "<div>\n",
       "<style>\n",
       "    .dataframe thead tr:only-child th {\n",
       "        text-align: right;\n",
       "    }\n",
       "\n",
       "    .dataframe thead th {\n",
       "        text-align: left;\n",
       "    }\n",
       "\n",
       "    .dataframe tbody tr th {\n",
       "        vertical-align: top;\n",
       "    }\n",
       "</style>\n",
       "<table border=\"1\" class=\"dataframe\">\n",
       "  <thead>\n",
       "    <tr style=\"text-align: right;\">\n",
       "      <th></th>\n",
       "      <th>Unnamed: 0</th>\n",
       "      <th>id</th>\n",
       "      <th>title</th>\n",
       "      <th>content</th>\n",
       "    </tr>\n",
       "  </thead>\n",
       "  <tbody>\n",
       "    <tr>\n",
       "      <th>0</th>\n",
       "      <td>0</td>\n",
       "      <td>1</td>\n",
       "      <td>spin relates subatomic particles</td>\n",
       "      <td>spin relates subatomic particles</td>\n",
       "    </tr>\n",
       "    <tr>\n",
       "      <th>1</th>\n",
       "      <td>1</td>\n",
       "      <td>2</td>\n",
       "      <td>simplest explanation string theory</td>\n",
       "      <td>simplest explanation string theory</td>\n",
       "    </tr>\n",
       "    <tr>\n",
       "      <th>2</th>\n",
       "      <td>2</td>\n",
       "      <td>3</td>\n",
       "      <td>lie theory representations particle physics</td>\n",
       "      <td>lie theory representations particle physics</td>\n",
       "    </tr>\n",
       "    <tr>\n",
       "      <th>3</th>\n",
       "      <td>3</td>\n",
       "      <td>7</td>\n",
       "      <td>determinism</td>\n",
       "      <td>determinism</td>\n",
       "    </tr>\n",
       "    <tr>\n",
       "      <th>4</th>\n",
       "      <td>4</td>\n",
       "      <td>9</td>\n",
       "      <td>hamilton principle</td>\n",
       "      <td>hamilton principle</td>\n",
       "    </tr>\n",
       "  </tbody>\n",
       "</table>\n",
       "</div>"
      ],
      "text/plain": [
       "   Unnamed: 0  id                                        title  \\\n",
       "0           0   1             spin relates subatomic particles   \n",
       "1           1   2           simplest explanation string theory   \n",
       "2           2   3  lie theory representations particle physics   \n",
       "3           3   7                                  determinism   \n",
       "4           4   9                           hamilton principle   \n",
       "\n",
       "                                       content  \n",
       "0             spin relates subatomic particles  \n",
       "1           simplest explanation string theory  \n",
       "2  lie theory representations particle physics  \n",
       "3                                  determinism  \n",
       "4                           hamilton principle  "
      ]
     },
     "execution_count": 2,
     "metadata": {},
     "output_type": "execute_result"
    }
   ],
   "source": [
    "import os\n",
    "import glob\n",
    "import pandas as pd\n",
    "df = pd.DataFrame()\n",
    "df = pd.read_csv(\"../../data/light/test_light.csv\")\n",
    "df.head()"
   ]
  },
  {
   "cell_type": "markdown",
   "metadata": {
    "collapsed": true
   },
   "source": [
    "# LDA on title of Questions"
   ]
  },
  {
   "cell_type": "code",
   "execution_count": 17,
   "metadata": {},
   "outputs": [
    {
     "data": {
      "text/plain": [
       "0               spin relates subatomic particles\n",
       "1             simplest explanation string theory\n",
       "2    lie theory representations particle physics\n",
       "3                                    determinism\n",
       "4                             hamilton principle\n",
       "Name: title, dtype: object"
      ]
     },
     "execution_count": 17,
     "metadata": {},
     "output_type": "execute_result"
    }
   ],
   "source": [
    "documents = df.title\n",
    "documents.head()"
   ]
  },
  {
   "cell_type": "code",
   "execution_count": 18,
   "metadata": {
    "collapsed": true
   },
   "outputs": [],
   "source": [
    "stop = set(stopwords.words('english'))\n",
    "exclude = set(string.punctuation) \n",
    "lemma = WordNetLemmatizer()"
   ]
  },
  {
   "cell_type": "code",
   "execution_count": 19,
   "metadata": {
    "collapsed": true
   },
   "outputs": [],
   "source": [
    "def clean(doc):\n",
    "    \n",
    "    print(doc)\n",
    "    stop_free = \" \".join([i for i in doc.lower().split() if i not in stop])\n",
    "    punc_free = ''.join(ch for ch in stop_free if ch not in exclude)\n",
    "    normalized = \" \".join(lemma.lemmatize(word) for word in punc_free.split())\n",
    "    return normalized"
   ]
  },
  {
   "cell_type": "code",
   "execution_count": 20,
   "metadata": {},
   "outputs": [
    {
     "name": "stdout",
     "output_type": "stream",
     "text": [
      "spin relates subatomic particles\n",
      "simplest explanation string theory\n",
      "lie theory representations particle physics\n",
      "determinism\n",
      "hamilton principle\n",
      "sound produced\n",
      "experiment disprove string theory\n",
      "sky change color sky blue day red sunrise set black night\n",
      "energy particle collisions calculated\n",
      "monte carlo\n",
      "leaning banking turning bicycle\n",
      "velocity object electromagnetic field\n",
      "difference measurement interaction quantum mechanics\n",
      "calculate average speed\n",
      "lay explanation special theory relativity\n",
      "show coriolis effect irrelevant whirl vortex sink bathtub\n",
      "magnets energy repel\n",
      "check einstein equations correspondence real world\n",
      "impressions topological field theories mathematics\n",
      "capacitive screen sensing\n",
      "magnets spin positioned precisely\n",
      "lhc circular long\n",
      "polarised materials change colour stress\n",
      "intuitive explanation gouy phase\n",
      "proton therapy cancer treatment\n",
      "physicists solutions yang baxter equation\n",
      "mnemonics remember properties materials\n",
      "neutrons repel\n",
      "quantum entanglement mediated interaction\n",
      "squeezed light produced\n",
      "slightly larger mass neutron compared proton\n",
      "newton law gravity consistent general relativity\n",
      "neutron stars pulsars\n",
      "coulomb law gauss law imply existence spatial dimensions\n",
      "ways measure local polarization laser beam\n",
      "current alternatives standard concordance model cosmology\n",
      "obtaining isotope stability\n",
      "calculate energy liberated fission process\n",
      "production antiproton tevatron\n",
      "gravity force opposite\n",
      "book classical mechanics\n",
      "mathematica hamiltonian problem\n",
      "rest mass quantized\n",
      "measure mass galaxy large quantities\n",
      "gnuplot pervasive physics modern tools\n",
      "lhc find higgs boson implications standard model\n",
      "deuterons share quantum states fine protons neutrons inside\n",
      "speed neutrinos\n",
      "reference request statistical inference real world chaotic data climate weather data\n",
      "boiling water salt\n",
      "law tap water temperature\n",
      "ways imagine concept spin relates subatomic particles\n",
      "northern lights produced\n",
      "force magnitude\n",
      "good mechanics experiments year olds\n",
      "breakthrough energy technologies close realized\n",
      "make order magnitude estimate strength earth magnetic field\n",
      "intuitively reversible process system equilibrium\n",
      "acceleration absolute quantity\n",
      "needed claim discovery higgs boson\n",
      "finding angular acceleration torque\n",
      "mechanism magnetic core saturation\n",
      "books mathematical background\n",
      "scenarios ftl information transfer violate causality\n",
      "forces mediated\n",
      "current models particle physics explain chemical properties elements compounds\n",
      "fourier transformation nature natural physics\n",
      "distance sun earth increasing\n",
      "jump inside free falling elevator\n",
      "suck cooked spaghetti\n",
      "insightful impressive experiments adults\n",
      "software physics calculations\n",
      "acceleration rings aerotrim human gyroscope\n",
      "physics student study mathematics\n",
      "positronium exist\n",
      "finding volume irregular shape\n",
      "property objects float\n",
      "body problem\n",
      "particle colliders accelerator chain\n",
      "determines minimum angle domino falls\n",
      "physical forces pull press water upwards vegetation\n",
      "wearing clothing black inside white cooler\n",
      "spinning tops fall\n",
      "counter intuitive result physics\n",
      "angular velocities vectors rotations\n",
      "airplanes fly\n",
      "energy conserved\n",
      "subgrid scale parametrisations climate models work\n",
      "water make sound disturbed\n",
      "determines pitch explosion\n",
      "people expect number electrons emitted photoelectric effect rise radiation intensity\n",
      "particle physics started\n",
      "outcome qm measurement calculated priori\n",
      "planet orbits difference gravity centripetal force\n",
      "angular momentum average torque\n",
      "angular momentum force\n",
      "period precession\n",
      "electricity instantaneous\n",
      "determine transmission reflection coefficients light\n",
      "principle door peepholes\n",
      "physics computer science\n",
      "electric fish shock\n",
      "si base quantities chosen\n",
      "measure mass earth home\n",
      "home experiments derive speed light\n",
      "symmetrical twin paradox\n",
      "started studying general relativity\n",
      "gravity doughnut shaped bius planet\n",
      "temperature billions degrees\n",
      "exact solution position planet function time\n",
      "optics vacuum state compare thermal radiation\n",
      "derivation centrifugal coriolis force\n",
      "general definition impedance\n",
      "compute eigenfunctions fourier transform\n",
      "list inconveniences quantum mechanics general relativity\n",
      "advantages high energy heavy ion collisions proton proton collisions\n",
      "positrons versus holes positive charge carriers\n",
      "anti matter matter backwards time\n",
      "software programs draw physics diagrams relative merits\n",
      "astronomers directly detect black holes\n",
      "methods astronomers find black hole\n",
      "number theory physics\n",
      "automatically assume velocity vector vec location vector vec independent\n",
      "magnet attract paperclip indefinitely\n",
      "relationship thermal radiation johnson thermal noise\n",
      "extra solar gamma rays reach earth surface\n",
      "nature gravity gravitons curvature space time\n",
      "describe polarization light coming arbitrary angle\n",
      "interferometry origin airy function\n",
      "equation describes wavefunction single photon\n",
      "real world implications kessler syndrome\n",
      "force hold foot steel staff weighing lbs end parallel floor\n",
      "relaxation method model negative dielectrics electric field\n",
      "distance travelled free fall\n",
      "thought normal physics exist inside event horizon black hole\n",
      "fundamental assumptions quantum mechanics\n",
      "mechanism slowdown light photons transparent medium\n",
      "project magnetic field location space\n",
      "chromatic polynomial potts model\n",
      "nature decoupling matter radiation\n",
      "maxwell equations behavior charge current\n",
      "equation motion\n",
      "notation plane waves\n",
      "quantum field theory cross sections integrals\n",
      "simple body problem\n",
      "open problems special relativity inertial motion flat spacetime things discovered recently\n",
      "bike bicycle fall high speed\n",
      "tire speed dependent friction\n",
      "neutrons produced cosmic ray particles\n",
      "temperature surface core neutron star formed billion years ago equal\n",
      "unambiguous distinguishing quantum states local measurement\n",
      "evenly heating soup microwave long\n",
      "shiny black objects\n",
      "kinetic energy increase quadratically linearly speed\n",
      "coefficient static friction kinetic friction\n",
      "chance objects greater entropy\n",
      "hot things glow temperature\n",
      "fallacy infinite motion machine\n",
      "exist intergalactic space\n",
      "material resistency lasers beam\n",
      "neutron stars burn decay fusion\n",
      "electricity generator connected\n",
      "determines color pure substance predict\n",
      "correct describe electromagnetism curved space time\n",
      "causal set manifold\n",
      "tape hard rip broken easy tiniest cut\n",
      "friction force change directions change reference frame\n",
      "books linear operator spectral theory\n",
      "nano particle molecule\n",
      "chosing reference frame earth rest rotate\n",
      "equilibrium movement cylinder asymmetric mass centre inclined plane\n",
      "point correlation function planar potts model\n",
      "atoms collision\n",
      "make glasses make brighter magnify focus\n",
      "hard accelerate macroscopic objects\n",
      "list scattering phenomena\n",
      "quantization\n",
      "experience short pull wrong direction vehicle stops\n",
      "observe interference independent optical lasers\n",
      "evolution interpretation dirac equation\n",
      "logarithmic wind speed profile\n",
      "molecules vibrate collision\n",
      "idea terms time space matter\n",
      "iss electrically charged\n",
      "blur image person sight problems sharp\n",
      "relation sound propagation air pressure\n",
      "destroy proton proton proton collision\n",
      "learning physics online\n",
      "falling black hole black hole singularity cosmic background radiation\n",
      "gravity vector tensor function gravity velocity instantaneous\n",
      "physical laws scale dependent\n",
      "relativistic speed energy relation correct\n",
      "size universe doubled\n",
      "fill understanding polywell fusion reactor\n",
      "condition fulfilled path mass sliding lumpy hill\n",
      "ball slide lumpy hill path rolls hill\n",
      "electromagnetic field connection vector bundle\n",
      "suggested reading renormalization qft\n",
      "atoms light year light encounter traversing interstellar space\n",
      "mathematics ads cft\n",
      "quantum physics suggests universe computer simulation\n",
      "amount amperage\n",
      "notation sections vector bundles\n",
      "efficient destroy universe\n",
      "jupiter ignited\n",
      "calculate ballistic trajectory suborbital flight\n",
      "dr quantum double slit experiment video scientifically accurate\n",
      "energy electron muon reaction\n",
      "question moment inertia velocity\n",
      "constraint force rod\n",
      "water level equalize series tubes\n",
      "conversion photonics\n",
      "calculate anomalous precession mercury\n",
      "categorical mathematical structure describe space localized events relational quantum mechanics\n",
      "approaches discrete space time modern physics\n",
      "angular momentum fundamental\n",
      "direction friction force rolling ball\n",
      "calculate celestial body characteristics priori knowledge\n",
      "maxwell demon constant information energy equivalence\n",
      "measure wavelength infrared radiation\n",
      "simple express mutually unbiased bases qubits\n",
      "field theory\n",
      "statement make sense\n",
      "possibly naive question quantized space time\n",
      "meaning application convolution deconvolution physical sciences\n",
      "explanation experiment mach zehnder interferometer interference single photon\n",
      "lie algebra\n",
      "photons lumen\n",
      "estimate condensation air\n",
      "books physicist read\n",
      "calculus variations work\n",
      "swimming spacetime apparent conserved quantity violation\n",
      "relativistic cellular automata\n",
      "books develop interest critical thinking high school students\n",
      "frozen objects higher propensity snap break cleanly frozen warmer\n",
      "dimensional definition entropy\n",
      "type stationary point hamilton principle\n",
      "nan\n"
     ]
    },
    {
     "ename": "AttributeError",
     "evalue": "'float' object has no attribute 'lower'",
     "output_type": "error",
     "traceback": [
      "\u001b[0;31m---------------------------------------------------------------------------\u001b[0m",
      "\u001b[0;31mAttributeError\u001b[0m                            Traceback (most recent call last)",
      "\u001b[0;32m<ipython-input-20-c7561c07fd63>\u001b[0m in \u001b[0;36m<module>\u001b[0;34m()\u001b[0m\n\u001b[0;32m----> 1\u001b[0;31m \u001b[0mdocuments_clean\u001b[0m \u001b[0;34m=\u001b[0m \u001b[0;34m[\u001b[0m\u001b[0mclean\u001b[0m\u001b[0;34m(\u001b[0m\u001b[0mdoc\u001b[0m\u001b[0;34m)\u001b[0m\u001b[0;34m.\u001b[0m\u001b[0msplit\u001b[0m\u001b[0;34m(\u001b[0m\u001b[0;34m)\u001b[0m \u001b[0;32mfor\u001b[0m \u001b[0mdoc\u001b[0m \u001b[0;32min\u001b[0m \u001b[0mdocuments\u001b[0m\u001b[0;34m]\u001b[0m\u001b[0;34m\u001b[0m\u001b[0m\n\u001b[0m",
      "\u001b[0;32m<ipython-input-20-c7561c07fd63>\u001b[0m in \u001b[0;36m<listcomp>\u001b[0;34m(.0)\u001b[0m\n\u001b[0;32m----> 1\u001b[0;31m \u001b[0mdocuments_clean\u001b[0m \u001b[0;34m=\u001b[0m \u001b[0;34m[\u001b[0m\u001b[0mclean\u001b[0m\u001b[0;34m(\u001b[0m\u001b[0mdoc\u001b[0m\u001b[0;34m)\u001b[0m\u001b[0;34m.\u001b[0m\u001b[0msplit\u001b[0m\u001b[0;34m(\u001b[0m\u001b[0;34m)\u001b[0m \u001b[0;32mfor\u001b[0m \u001b[0mdoc\u001b[0m \u001b[0;32min\u001b[0m \u001b[0mdocuments\u001b[0m\u001b[0;34m]\u001b[0m\u001b[0;34m\u001b[0m\u001b[0m\n\u001b[0m",
      "\u001b[0;32m<ipython-input-19-56db4aa428fa>\u001b[0m in \u001b[0;36mclean\u001b[0;34m(doc)\u001b[0m\n\u001b[1;32m      2\u001b[0m \u001b[0;34m\u001b[0m\u001b[0m\n\u001b[1;32m      3\u001b[0m     \u001b[0mprint\u001b[0m\u001b[0;34m(\u001b[0m\u001b[0mdoc\u001b[0m\u001b[0;34m)\u001b[0m\u001b[0;34m\u001b[0m\u001b[0m\n\u001b[0;32m----> 4\u001b[0;31m     \u001b[0mstop_free\u001b[0m \u001b[0;34m=\u001b[0m \u001b[0;34m\" \"\u001b[0m\u001b[0;34m.\u001b[0m\u001b[0mjoin\u001b[0m\u001b[0;34m(\u001b[0m\u001b[0;34m[\u001b[0m\u001b[0mi\u001b[0m \u001b[0;32mfor\u001b[0m \u001b[0mi\u001b[0m \u001b[0;32min\u001b[0m \u001b[0mdoc\u001b[0m\u001b[0;34m.\u001b[0m\u001b[0mlower\u001b[0m\u001b[0;34m(\u001b[0m\u001b[0;34m)\u001b[0m\u001b[0;34m.\u001b[0m\u001b[0msplit\u001b[0m\u001b[0;34m(\u001b[0m\u001b[0;34m)\u001b[0m \u001b[0;32mif\u001b[0m \u001b[0mi\u001b[0m \u001b[0;32mnot\u001b[0m \u001b[0;32min\u001b[0m \u001b[0mstop\u001b[0m\u001b[0;34m]\u001b[0m\u001b[0;34m)\u001b[0m\u001b[0;34m\u001b[0m\u001b[0m\n\u001b[0m\u001b[1;32m      5\u001b[0m     \u001b[0mpunc_free\u001b[0m \u001b[0;34m=\u001b[0m \u001b[0;34m''\u001b[0m\u001b[0;34m.\u001b[0m\u001b[0mjoin\u001b[0m\u001b[0;34m(\u001b[0m\u001b[0mch\u001b[0m \u001b[0;32mfor\u001b[0m \u001b[0mch\u001b[0m \u001b[0;32min\u001b[0m \u001b[0mstop_free\u001b[0m \u001b[0;32mif\u001b[0m \u001b[0mch\u001b[0m \u001b[0;32mnot\u001b[0m \u001b[0;32min\u001b[0m \u001b[0mexclude\u001b[0m\u001b[0;34m)\u001b[0m\u001b[0;34m\u001b[0m\u001b[0m\n\u001b[1;32m      6\u001b[0m     \u001b[0mnormalized\u001b[0m \u001b[0;34m=\u001b[0m \u001b[0;34m\" \"\u001b[0m\u001b[0;34m.\u001b[0m\u001b[0mjoin\u001b[0m\u001b[0;34m(\u001b[0m\u001b[0mlemma\u001b[0m\u001b[0;34m.\u001b[0m\u001b[0mlemmatize\u001b[0m\u001b[0;34m(\u001b[0m\u001b[0mword\u001b[0m\u001b[0;34m)\u001b[0m \u001b[0;32mfor\u001b[0m \u001b[0mword\u001b[0m \u001b[0;32min\u001b[0m \u001b[0mpunc_free\u001b[0m\u001b[0;34m.\u001b[0m\u001b[0msplit\u001b[0m\u001b[0;34m(\u001b[0m\u001b[0;34m)\u001b[0m\u001b[0;34m)\u001b[0m\u001b[0;34m\u001b[0m\u001b[0m\n",
      "\u001b[0;31mAttributeError\u001b[0m: 'float' object has no attribute 'lower'"
     ]
    }
   ],
   "source": [
    "documents_clean = [clean(doc).split() for doc in documents]"
   ]
  },
  {
   "cell_type": "code",
   "execution_count": null,
   "metadata": {
    "collapsed": true
   },
   "outputs": [],
   "source": [
    "# Creating the term dictionary of our courpus, where every unique term is assigned an index. \n",
    "dictionary = corpora.Dictionary(documents_clean)"
   ]
  },
  {
   "cell_type": "code",
   "execution_count": null,
   "metadata": {},
   "outputs": [],
   "source": [
    "# unique words\n",
    "len(dictionary)"
   ]
  },
  {
   "cell_type": "code",
   "execution_count": null,
   "metadata": {
    "collapsed": true
   },
   "outputs": [],
   "source": [
    "# Converting list of documents (corpus) into Document Term Matrix using dictionary prepared above.\n",
    "doc_term_matrix = [dictionary.doc2bow(doc) for doc in documents_clean]"
   ]
  },
  {
   "cell_type": "code",
   "execution_count": null,
   "metadata": {
    "collapsed": true
   },
   "outputs": [],
   "source": [
    "# Creating the object for LDA model using gensim library\n",
    "Lda = gensim.models.ldamodel.LdaModel\n",
    "\n",
    "# Running and Trainign LDA model on the document term matrix.\n",
    "ldamodel = Lda(doc_term_matrix, num_topics=3, id2word = dictionary, passes=50)"
   ]
  },
  {
   "cell_type": "code",
   "execution_count": null,
   "metadata": {
    "collapsed": true
   },
   "outputs": [],
   "source": [
    "ldamodel.save(\"lda_title_content\")"
   ]
  },
  {
   "cell_type": "code",
   "execution_count": null,
   "metadata": {},
   "outputs": [],
   "source": [
    "print(ldamodel.print_topics(num_topics=3, num_words=3))"
   ]
  },
  {
   "cell_type": "markdown",
   "metadata": {
    "collapsed": true
   },
   "source": [
    "# Function for predicting tags Using Trained LDA"
   ]
  },
  {
   "cell_type": "code",
   "execution_count": null,
   "metadata": {
    "collapsed": true
   },
   "outputs": [],
   "source": [
    "# load model\n",
    "import gensim\n",
    "LDA = gensim.models.ldamodel.LdaModel"
   ]
  },
  {
   "cell_type": "code",
   "execution_count": null,
   "metadata": {
    "collapsed": true
   },
   "outputs": [],
   "source": [
    "lda = LDA.load(\"lda_title_content\")"
   ]
  },
  {
   "cell_type": "code",
   "execution_count": null,
   "metadata": {},
   "outputs": [],
   "source": [
    "import pandas as pd\n",
    "df = pd.read_csv(\"../../data/light/test_light.csv\")\n",
    "df.head()"
   ]
  },
  {
   "cell_type": "code",
   "execution_count": null,
   "metadata": {
    "collapsed": true
   },
   "outputs": [],
   "source": [
    "\n",
    "def getTopicForQuery (question):\n",
    "    import numpy\n",
    "    # clean the question\n",
    "    question_clean = clean(question).split()\n",
    "    ques_vec = []\n",
    "    ques_vec = dictionary.doc2bow(question_clean)\n",
    "\n",
    "    topic_vec = []\n",
    "    topic_vec = lda[ques_vec]\n",
    "\n",
    "    word_count_array = numpy.empty((len(topic_vec), 2), dtype = numpy.object)\n",
    "    for i in range(len(topic_vec)):\n",
    "        word_count_array[i, 0] = topic_vec[i][0]\n",
    "        word_count_array[i, 1] = topic_vec[i][1]\n",
    "\n",
    "    idx = numpy.argsort(word_count_array[:, 1])\n",
    "    idx = idx[::-1]\n",
    "    word_count_array = word_count_array[idx]\n",
    "\n",
    "    final = []\n",
    "    final = lda.print_topic(word_count_array[0, 0], 3)\n",
    "    \n",
    "    tags = [x.split(\"*\")[1].replace(\"\\\"\",'').strip() for x in final.split(\"+\") ]\n",
    "    \n",
    "    return \" \".join(tags)"
   ]
  },
  {
   "cell_type": "code",
   "execution_count": null,
   "metadata": {},
   "outputs": [],
   "source": [
    "results = []\n",
    "resultDF1 = pd.DataFrame(columns = [\"id\",\"tags\"])\n",
    "\n",
    "tags1 = []\n",
    "counter=1\n",
    "for ques in df.content[0:50]:\n",
    "#     tags1.append(getTopicForQuery(ques))\n",
    "    print(ques)\n",
    "    print(getTopicForQuery(ques))\n",
    "    if(counter%10000 == 0):\n",
    "        print(str(counter)+\" processed\")\n",
    "    counter = counter + 1\n",
    "    \n",
    "# results\n",
    "# resultDF1[\"id\"]=df.id\n",
    "# resultDF1[\"tags\"]=tags1\n",
    "print(resultDF.head())"
   ]
  },
  {
   "cell_type": "code",
   "execution_count": null,
   "metadata": {
    "collapsed": true
   },
   "outputs": [],
   "source": [
    "resultDF.id = df.id"
   ]
  },
  {
   "cell_type": "code",
   "execution_count": null,
   "metadata": {
    "collapsed": true
   },
   "outputs": [],
   "source": [
    "resultDF.to_csv(\"results.csv\", index=False)"
   ]
  },
  {
   "cell_type": "code",
   "execution_count": null,
   "metadata": {
    "collapsed": true
   },
   "outputs": [],
   "source": []
  }
 ],
 "metadata": {
  "kernelspec": {
   "display_name": "Python 3",
   "language": "python",
   "name": "python3"
  },
  "language_info": {
   "codemirror_mode": {
    "name": "ipython",
    "version": 3
   },
   "file_extension": ".py",
   "mimetype": "text/x-python",
   "name": "python",
   "nbconvert_exporter": "python",
   "pygments_lexer": "ipython3",
   "version": "3.6.1"
  }
 },
 "nbformat": 4,
 "nbformat_minor": 2
}
